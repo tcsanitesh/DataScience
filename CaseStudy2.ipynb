{
 "cells": [
  {
   "cell_type": "code",
   "execution_count": 1,
   "id": "ae0e201d",
   "metadata": {},
   "outputs": [
    {
     "name": "stdout",
     "output_type": "stream",
     "text": [
      "4\n"
     ]
    }
   ],
   "source": [
    "nums =set([1,1,2,3,3,3,4,4])\n",
    "print(len(nums)) #4\n"
   ]
  },
  {
   "cell_type": "code",
   "execution_count": 2,
   "id": "e3c11c3b",
   "metadata": {},
   "outputs": [
    {
     "name": "stdout",
     "output_type": "stream",
     "text": [
      "['john', 'peter']\n"
     ]
    }
   ],
   "source": [
    "d ={\"john\":40, \"peter\":45}\n",
    "print(list(d.keys()))\n",
    "#[\"john\",\"peter\"]"
   ]
  },
  {
   "cell_type": "markdown",
   "id": "cfdd2fe7",
   "metadata": {},
   "source": [
    "#### A website requires a user to input username and password to register. Write a program to check the validity of password given by user. Following are the criteria for checking password:\n",
    "1. At least 1 letter between [a-z]\n",
    "2. At least 1 number between [0-9]\n",
    "3. At least 1 letter between [A-Z]\n",
    "4. At least 1 character from [$#@]\n",
    "5. Minimum length of transaction password: 6\n",
    "6. Maximum length of transaction password: 12"
   ]
  },
  {
   "cell_type": "code",
   "execution_count": 26,
   "id": "99aba8b0",
   "metadata": {},
   "outputs": [
    {
     "name": "stdout",
     "output_type": "stream",
     "text": [
      "Please Enter the Password : P@ssw0rd1\n",
      "P@ssw0rd1 is valid\n",
      "P@ssw0rd1\n"
     ]
    }
   ],
   "source": [
    "pwd = input(\"Please Enter the Password : \")\n",
    "\n",
    "if len(pwd) in range(6,13):\n",
    "    has_lowercase = False\n",
    "    has_uppercase = False\n",
    "    has_digit = False\n",
    "    has_special_char = False\n",
    "    for char in pwd:\n",
    "        if char.islower():\n",
    "            has_lowercase=True\n",
    "        elif char.isupper():\n",
    "            has_uppercase = True\n",
    "        elif char.isdigit():\n",
    "            has_digit = True\n",
    "        elif char in [\"$\",\"#\",\"@\"]:\n",
    "            has_special_char = True         \n",
    "    if has_lowercase and has_uppercase and has_digit and has_special_char:\n",
    "        print(f\"{pwd} is valid\")\n",
    "    else:\n",
    "              print(f\"{pwd} is invalid\")\n",
    "           \n",
    "else:\n",
    "    print(f\"{pwd} invalid and missing length criteria of min 6 and max 12\")\n",
    "print(pwd)\n",
    "\n",
    "            \n",
    "            "
   ]
  },
  {
   "cell_type": "code",
   "execution_count": null,
   "id": "b3225963",
   "metadata": {},
   "outputs": [],
   "source": [
    "# 2nd method\n",
    "\n",
    "import re\n",
    "\n",
    "def is_valid_password(password):\n",
    "    if 6 <= len(password) <= 12:\n",
    "        if re.search(\"[a-z]\", password):\n",
    "            if re.search(\"[A-Z]\", password):\n",
    "                if re.search(\"[0-9]\", password):\n",
    "                    if re.search(\"[$#@]\", password):\n",
    "                        return True\n",
    "\n",
    "    return False\n",
    "\n",
    "password = input(\"Enter a password: \")\n",
    "\n",
    "if is_valid_password(password):\n",
    "    print(\"Valid password\")\n",
    "else:\n",
    "    print(\"Invalid password\")\n"
   ]
  },
  {
   "cell_type": "markdown",
   "id": "3b1488db",
   "metadata": {},
   "source": [
    "### Write a for loop that prints all elements of a list and their position in the list.a = [4,7,3,2,5,9]"
   ]
  },
  {
   "cell_type": "code",
   "execution_count": 32,
   "id": "decdd03d",
   "metadata": {},
   "outputs": [
    {
     "name": "stdout",
     "output_type": "stream",
     "text": [
      "Element at position 0 is 4\n",
      "Element at position 1 is 7\n",
      "Element at position 2 is 3\n",
      "Element at position 3 is 2\n",
      "Element at position 4 is 5\n",
      "Element at position 5 is 9\n"
     ]
    }
   ],
   "source": [
    "#1st method \n",
    "a= [4,7,3,2,5,9]\n",
    "position = 0\n",
    "for element in a:\n",
    "    print(f\"Element at position {position} is {element}\")\n",
    "    position += 1"
   ]
  },
  {
   "cell_type": "code",
   "execution_count": 34,
   "id": "065aaacd",
   "metadata": {},
   "outputs": [
    {
     "name": "stdout",
     "output_type": "stream",
     "text": [
      "Element at position 0 is 4\n",
      "Element at position 1 is 7\n",
      "Element at position 2 is 3\n",
      "Element at position 3 is 2\n",
      "Element at position 4 is 5\n",
      "Element at position 5 is 9\n"
     ]
    }
   ],
   "source": [
    "#2nd method \n",
    "a = [4, 7, 3, 2, 5, 9]\n",
    "\n",
    "for position, element  in enumerate(a):\n",
    "    print(f\"Element at position {position} is {element}\")\n"
   ]
  },
  {
   "cell_type": "markdown",
   "id": "80bae51a",
   "metadata": {},
   "source": [
    "### Please   write   a   program   which accepts  a   string   from   console   and   print   the characters that have even indexes.\n",
    "Example: If the following string is given as input to the program:H1e2l3l4o5w6o7r8l9dThen, \n",
    "the output of the program should be:Helloworld\n"
   ]
  },
  {
   "cell_type": "code",
   "execution_count": 41,
   "id": "f1c0d50f",
   "metadata": {},
   "outputs": [
    {
     "name": "stdout",
     "output_type": "stream",
     "text": [
      "Entger any string :H1e2l3l4o5w6o7r8l9d\n",
      "Helloworld"
     ]
    }
   ],
   "source": [
    "input_string= input(\"Entger any string :\")\n",
    "for pos,char in enumerate(input_string):\n",
    "    if pos%2 == 0:\n",
    "        print(char, end=\"\")\n"
   ]
  },
  {
   "cell_type": "code",
   "execution_count": 42,
   "id": "68bd4c8c",
   "metadata": {},
   "outputs": [
    {
     "name": "stdout",
     "output_type": "stream",
     "text": [
      "Entger any string :H1e2l3l4o5w6o7r8l9d\n",
      "Helloworld\n"
     ]
    }
   ],
   "source": [
    "#2nd method\n",
    "\n",
    "input_string= input(\"Entger any string :\")\n",
    "result = input_string[::2]\n",
    "\n",
    "print(result)"
   ]
  },
  {
   "cell_type": "markdown",
   "id": "b31d4876",
   "metadata": {},
   "source": [
    "#### Please write a program which accepts a string from console and print it in reverse order.\n",
    "Example: If the following string is given as input to the program: rise to vote sir\n",
    "Then,the output of the program should be:ris etov ot esir"
   ]
  },
  {
   "cell_type": "code",
   "execution_count": 44,
   "id": "fbb37223",
   "metadata": {},
   "outputs": [
    {
     "name": "stdout",
     "output_type": "stream",
     "text": [
      "Entger any string :ris etov ot esir\n",
      "rise to vote sir\n"
     ]
    }
   ],
   "source": [
    "input_string= input(\"Entger any string :\")\n",
    "result = input_string[::-1]\n",
    "\n",
    "print(result)"
   ]
  },
  {
   "cell_type": "markdown",
   "id": "4bf024ec",
   "metadata": {},
   "source": [
    "#### Please write a program which count and print the numbers of each character in a string input by console.\n",
    "Example: If the following string is given as input to the program:abcdefgabcThen, \n",
    "the output of the program should be:a,2c,2b,2e,1d,1g,1f,1"
   ]
  },
  {
   "cell_type": "code",
   "execution_count": 57,
   "id": "d49581a9",
   "metadata": {},
   "outputs": [
    {
     "name": "stdout",
     "output_type": "stream",
     "text": [
      "Entger any string :abcdefgabc\n",
      "a,2\n",
      "b,2\n",
      "c,2\n",
      "d,1\n",
      "e,1\n",
      "f,1\n",
      "g,1\n"
     ]
    }
   ],
   "source": [
    "input_string= input(\"Entger any string :\")\n",
    "\n",
    "char_count = {} #dictnory\n",
    "\n",
    "for char in input_string:\n",
    "    if char in char_count:\n",
    "        char_count[char] += 1\n",
    "    else:\n",
    "        char_count[char] = 1\n",
    "\n",
    "\n",
    "for char, count in char_count.items():\n",
    "    print(f\"{char},{count}\")"
   ]
  },
  {
   "cell_type": "markdown",
   "id": "208bec60",
   "metadata": {},
   "source": [
    "### With   two   given   lists   [1,3,6,78,35,55]   and   [12,24,35,24,88,120,155],   write   a program to make a list whose elements are intersection of the above given lists"
   ]
  },
  {
   "cell_type": "code",
   "execution_count": 58,
   "id": "8e5a3fcc",
   "metadata": {},
   "outputs": [
    {
     "name": "stdout",
     "output_type": "stream",
     "text": [
      "[35]\n"
     ]
    }
   ],
   "source": [
    "list1 = [1, 3, 6, 78, 35, 55]\n",
    "list2 = [12, 24, 35, 24, 88, 120, 155]\n",
    "\n",
    "# Convert lists to sets to remove duplicates\n",
    "set1 = set(list1)\n",
    "set2 = set(list2)\n",
    "\n",
    "intersection_list = list(set1.intersection(set2))\n",
    "\n",
    "\n",
    "print(intersection_list)\n"
   ]
  },
  {
   "cell_type": "markdown",
   "id": "bd64247b",
   "metadata": {},
   "source": [
    "#### By usinglist comprehension, please write a program to print the list after removing the value 24 in [12,24,35,24,88,120,155]\n"
   ]
  },
  {
   "cell_type": "code",
   "execution_count": 64,
   "id": "b7d4fb67",
   "metadata": {},
   "outputs": [
    {
     "name": "stdout",
     "output_type": "stream",
     "text": [
      "[12, 35, 88, 120, 155]\n"
     ]
    }
   ],
   "source": [
    "x = [12,24,35,24,88,120,155]\n",
    "\n",
    "y = [i for i in x if i != 24]\n",
    "\n",
    "\n",
    "print(y)\n"
   ]
  },
  {
   "cell_type": "markdown",
   "id": "2600fb8b",
   "metadata": {},
   "source": [
    "### By using list comprehension, please write a program to print the list after removing the 0th,4th,5th numbers in [12,24,35,70,88,120,155]\n"
   ]
  },
  {
   "cell_type": "code",
   "execution_count": 72,
   "id": "55f02ca1",
   "metadata": {},
   "outputs": [
    {
     "name": "stdout",
     "output_type": "stream",
     "text": [
      "[24, 35, 70, 155]\n"
     ]
    }
   ],
   "source": [
    "x = [12,24,35,70,88,120,155]\n",
    "\n",
    "y = [i for i in x if x.index(i) not in (0,4,5)]\n",
    "\n",
    "print(y)"
   ]
  },
  {
   "cell_type": "markdown",
   "id": "711b2829",
   "metadata": {},
   "source": [
    "### By using list comprehension, please write a program to print the list after removing delete numbers which are divisible by 5 and 7 in [12,24,35,70,88,120,155]"
   ]
  },
  {
   "cell_type": "code",
   "execution_count": 82,
   "id": "2a2bacae",
   "metadata": {},
   "outputs": [
    {
     "name": "stdout",
     "output_type": "stream",
     "text": [
      "[12, 24, 88]\n"
     ]
    }
   ],
   "source": [
    "x =[12,24,35,70,88,120,155]\n",
    "\n",
    "y= [i for i in x if (i%5 != 0) and (i%7 !=0)]\n",
    "\n",
    "print(y)"
   ]
  },
  {
   "cell_type": "markdown",
   "id": "98aa7210",
   "metadata": {},
   "source": [
    "#### Write  a  program  to  compute  1/2+2/3+3/4+...+n/n+1  with  a  given  n  input  by console (n>0)"
   ]
  },
  {
   "cell_type": "code",
   "execution_count": 87,
   "id": "9d7104f3",
   "metadata": {},
   "outputs": [
    {
     "name": "stdout",
     "output_type": "stream",
     "text": [
      " enter a number : 5\n",
      "sum = 3.55\n"
     ]
    }
   ],
   "source": [
    "number = int(input(\" enter a number : \"))\n",
    "sum =0\n",
    "for i in range(1,number+1):\n",
    "    sum = sum + i/(i+1)\n",
    "\n",
    "    \n",
    "print(f\"sum = {sum:.2f}\")"
   ]
  },
  {
   "cell_type": "code",
   "execution_count": null,
   "id": "df91528c",
   "metadata": {},
   "outputs": [],
   "source": []
  }
 ],
 "metadata": {
  "kernelspec": {
   "display_name": "Python 3 (ipykernel)",
   "language": "python",
   "name": "python3"
  },
  "language_info": {
   "codemirror_mode": {
    "name": "ipython",
    "version": 3
   },
   "file_extension": ".py",
   "mimetype": "text/x-python",
   "name": "python",
   "nbconvert_exporter": "python",
   "pygments_lexer": "ipython3",
   "version": "3.11.5"
  }
 },
 "nbformat": 4,
 "nbformat_minor": 5
}
