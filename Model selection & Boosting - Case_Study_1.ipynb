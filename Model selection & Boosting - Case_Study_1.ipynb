{
  "cells": [
    {
      "cell_type": "markdown",
      "metadata": {
        "id": "view-in-github",
        "colab_type": "text"
      },
      "source": [
        "<a href=\"https://colab.research.google.com/github/tcsanitesh/DataScience/blob/main/Model%20selection%20%26%20Boosting%20-%20Case_Study_1.ipynb\" target=\"_parent\"><img src=\"https://colab.research.google.com/assets/colab-badge.svg\" alt=\"Open In Colab\"/></a>"
      ]
    },
    {
      "cell_type": "markdown",
      "metadata": {
        "id": "9taLLvVtV7LE"
      },
      "source": [
        "# Module 14 - Model Selection and Boosting\n",
        "##Case Study 1"
      ]
    },
    {
      "cell_type": "markdown",
      "metadata": {
        "id": "B2vCjOPsV7LN"
      },
      "source": [
        "# Import Libraries\n",
        "\n",
        "**Import the usual libraries **"
      ]
    },
    {
      "cell_type": "code",
      "execution_count": null,
      "metadata": {
        "collapsed": true,
        "id": "v9RHKPzMV7LP"
      },
      "outputs": [],
      "source": [
        "import matplotlib.pyplot as plt\n",
        "import pandas as pd\n",
        "import numpy as np\n",
        "import seaborn as sns\n",
        "%matplotlib inline"
      ]
    },
    {
      "cell_type": "markdown",
      "metadata": {
        "id": "wVc_du-tV7LR"
      },
      "source": [
        "# Data Set : QSAR BioDegradation Data Set\n",
        "\n",
        "The data have been used to develop QSAR (Quantitative Structure Activity Relationships) models for the study of the relationships between chemical structure and biodegradation of molecules. Biodegradation experimental values of 1055 chemicals were collected.\n",
        "\n",
        "Data can be found on UCI Machine Learning Repository:\n",
        "https://archive.ics.uci.edu/ml/datasets/QSAR+biodegradation\n",
        "\n",
        "Attribute Information:\n",
        "\n",
        "1) SpMax_L: Leading eigenvalue from Laplace matrix <br>\n",
        "2) J_Dz(e): Balaban-like index from Barysz matrix weighted by Sanderson electronegativity <br>\n",
        "3) nHM: Number of heavy atoms <br>\n",
        "4) F01[N-N]: Frequency of N-N at topological distance 1 <br>\n",
        "5) F04[C-N]: Frequency of C-N at topological distance 4 <br>\n",
        "6) NssssC: Number of atoms of type ssssC <br>\n",
        "7) nCb-: Number of substituted benzene C(sp2) <br>\n",
        "8) C%: Percentage of C atoms <br>\n",
        "9) nCp: Number of terminal primary C(sp3) <br>\n",
        "10) nO: Number of oxygen atoms <br>\n",
        "11) F03[C-N]: Frequency of C-N at topological distance 3 <br>\n",
        "12) SdssC: Sum of dssC E-states <br>\n",
        "13) HyWi_B(m): Hyper-Wiener-like index (log function) from Burden matrix weighted by mass <br>\n",
        "14) LOC: Lopping centric index <br>\n",
        "15) SM6_L: Spectral moment of order 6 from Laplace matrix <br>\n",
        "16) F03[C-O]: Frequency of C - O at topological distance 3 <br>\n",
        "17) Me: Mean atomic Sanderson electronegativity (scaled on Carbon atom) <br>\n",
        "18) Mi: Mean first ionization potential (scaled on Carbon atom) <br>\n",
        "19) nN-N: Number of N hydrazines <br>\n",
        "20) nArNO2: Number of nitro groups (aromatic) <br>\n",
        "21) nCRX3: Number of CRX3 <br>\n",
        "22) SpPosA_B(p): Normalized spectral positive sum from Burden matrix weighted by polarizability <br>\n",
        "23) nCIR: Number of circuits <br>\n",
        "24) B01[C-Br]: Presence/absence of C - Br at topological distance 1 <br>\n",
        "25) B03[C-Cl]: Presence/absence of C - Cl at topological distance 3 <br>\n",
        "26) N-073: Ar2NH / Ar3N / Ar2N-Al / R..N..R <br>\n",
        "27) SpMax_A: Leading eigenvalue from adjacency matrix (Lovasz-Pelikan index) <br>\n",
        "28) Psi_i_1d: Intrinsic state pseudoconnectivity index - type 1d <br>\n",
        "29) B04[C-Br]: Presence/absence of C - Br at topological distance 4 <br>\n",
        "30) SdO: Sum of dO E-states <br>\n",
        "31) TI2_L: Second Mohar index from Laplace matrix <br>\n",
        "32) nCrt: Number of ring tertiary C(sp3) <br>\n",
        "33) C-026: R--CX--R <br>\n",
        "34) F02[C-N]: Frequency of C - N at topological distance 2 <br>\n",
        "35) nHDon: Number of donor atoms for H-bonds (N and O) <br>\n",
        "36) SpMax_B(m): Leading eigenvalue from Burden matrix weighted by mass <br>\n",
        "37) Psi_i_A: Intrinsic state pseudoconnectivity index - type S average <br>\n",
        "38) nN: Number of Nitrogen atoms <br>\n",
        "39) SM6_B(m): Spectral moment of order 6 from Burden matrix weighted by mass <br>\n",
        "40) nArCOOR: Number of esters (aromatic) <br>\n",
        "41) nX: Number of halogen atoms <br>\n",
        "42) experimental class: ready biodegradable (RB) and not ready biodegradable (NRB)<br>"
      ]
    },
    {
      "cell_type": "markdown",
      "metadata": {
        "id": "9KGf-iK9V7LT"
      },
      "source": [
        "## Get the Data\n",
        "\n",
        "** Use pandas to read data as a dataframe called df.**"
      ]
    },
    {
      "cell_type": "code",
      "execution_count": 1,
      "metadata": {
        "id": "UXMtlz7ZV7LU",
        "colab": {
          "base_uri": "https://localhost:8080/",
          "height": 213
        },
        "outputId": "bc303432-4a02-4c7e-9b84-c268eb267cc8"
      },
      "outputs": [
        {
          "output_type": "error",
          "ename": "NameError",
          "evalue": "ignored",
          "traceback": [
            "\u001b[0;31m---------------------------------------------------------------------------\u001b[0m",
            "\u001b[0;31mNameError\u001b[0m                                 Traceback (most recent call last)",
            "\u001b[0;32m<ipython-input-1-b037bb0c4be4>\u001b[0m in \u001b[0;36m<cell line: 1>\u001b[0;34m()\u001b[0m\n\u001b[0;32m----> 1\u001b[0;31m \u001b[0mdf\u001b[0m\u001b[0;34m=\u001b[0m \u001b[0mpd\u001b[0m\u001b[0;34m.\u001b[0m\u001b[0mreadcsv\u001b[0m\u001b[0;34m(\u001b[0m\u001b[0;34m\"https://archive.ics.uci.edu/static/public/254/qsar+biodegradation.zip\"\u001b[0m\u001b[0;34m)\u001b[0m\u001b[0;34m\u001b[0m\u001b[0;34m\u001b[0m\u001b[0m\n\u001b[0m",
            "\u001b[0;31mNameError\u001b[0m: name 'pd' is not defined"
          ]
        }
      ],
      "source": [
        "df= pd.readcsv(\"https://archive.ics.uci.edu/static/public/254/qsar+biodegradation.zip\")"
      ]
    },
    {
      "cell_type": "code",
      "execution_count": null,
      "metadata": {
        "id": "kLD6GP-7V7LX"
      },
      "outputs": [],
      "source": [
        "# Check the data , there should be no missing values\n"
      ]
    },
    {
      "cell_type": "code",
      "execution_count": null,
      "metadata": {
        "collapsed": true,
        "id": "Z4xo0tPpV7LZ"
      },
      "outputs": [],
      "source": [
        "# Check Distribution of Output Class"
      ]
    },
    {
      "cell_type": "code",
      "execution_count": null,
      "metadata": {
        "id": "T5V2xqMEV7LZ"
      },
      "outputs": [],
      "source": []
    },
    {
      "cell_type": "markdown",
      "metadata": {
        "id": "jf5XlAluV7Lb"
      },
      "source": [
        "Get the name of features in an array"
      ]
    },
    {
      "cell_type": "code",
      "execution_count": null,
      "metadata": {
        "id": "DzE7ZMohV7Lb"
      },
      "outputs": [],
      "source": []
    },
    {
      "cell_type": "markdown",
      "metadata": {
        "id": "48XNK3laV7Lc"
      },
      "source": [
        "#### Convert experimental class  column to 1/0 and store in new column target\n"
      ]
    },
    {
      "cell_type": "code",
      "execution_count": null,
      "metadata": {
        "collapsed": true,
        "id": "eAlyK3bJV7Lc"
      },
      "outputs": [],
      "source": []
    },
    {
      "cell_type": "code",
      "execution_count": null,
      "metadata": {
        "collapsed": true,
        "id": "HMOI3GaZV7Ld"
      },
      "outputs": [],
      "source": [
        "# # Encode label diagnosis\n",
        "# # RB -> 1\n",
        "# # NRB -> 0"
      ]
    },
    {
      "cell_type": "code",
      "execution_count": null,
      "metadata": {
        "id": "zFDMe6nFV7Le"
      },
      "outputs": [],
      "source": [
        "# Get All rows, but only last column\n",
        "#print (target_data)"
      ]
    },
    {
      "cell_type": "markdown",
      "metadata": {
        "id": "OSbjqUYjV7Le"
      },
      "source": [
        "#### Store the encoded column in dataframe and drop the diagnosis column for simpilcity"
      ]
    },
    {
      "cell_type": "code",
      "execution_count": null,
      "metadata": {
        "id": "_Cpzl3WBV7Le"
      },
      "outputs": [],
      "source": []
    },
    {
      "cell_type": "markdown",
      "metadata": {
        "id": "czRtUsCOV7Lf"
      },
      "source": [
        "## Ada Boosting"
      ]
    },
    {
      "cell_type": "code",
      "execution_count": null,
      "metadata": {
        "collapsed": true,
        "id": "9l7LGAItV7Lf"
      },
      "outputs": [],
      "source": [
        "from sklearn.ensemble import AdaBoostClassifier #For Classification\n",
        "from sklearn.ensemble import AdaBoostRegressor #For Regression\n",
        "from sklearn.tree import DecisionTreeClassifier"
      ]
    },
    {
      "cell_type": "code",
      "execution_count": null,
      "metadata": {
        "id": "2Z9a6X7nV7Lg"
      },
      "outputs": [],
      "source": [
        "from sklearn import model_selection"
      ]
    },
    {
      "cell_type": "code",
      "execution_count": null,
      "metadata": {
        "collapsed": true,
        "id": "5IeRWNpOV7Lg"
      },
      "outputs": [],
      "source": [
        "random_state = 101\n",
        "kfold = model_selection.KFold(n_splits=5, random_state=100, shuffle=True)"
      ]
    },
    {
      "cell_type": "markdown",
      "metadata": {
        "id": "jnrJ0InrV7Lh"
      },
      "source": [
        "#### In case of Ada Boosting, result will change based on number of estimators"
      ]
    },
    {
      "cell_type": "code",
      "execution_count": null,
      "metadata": {
        "id": "QsSAF9YdV7Lh"
      },
      "outputs": [],
      "source": [
        "def get_result_score(num_trees):\n",
        "    model = AdaBoostClassifier(n_estimators=num_trees, random_state=random_state)\n",
        "    results = model_selection.cross_val_score(model, df, target_data, cv=kfold)\n",
        "    return results.mean()"
      ]
    },
    {
      "cell_type": "markdown",
      "metadata": {
        "id": "Vhr4NUIJV7Li"
      },
      "source": [
        "** Compute the the mean score for different values of n_estimators**"
      ]
    },
    {
      "cell_type": "code",
      "execution_count": null,
      "metadata": {
        "id": "6wlI0_C5V7Li"
      },
      "outputs": [],
      "source": [
        "num_tree_list = [50,75,100,150,200,250,300]\n",
        "\n"
      ]
    },
    {
      "cell_type": "markdown",
      "metadata": {
        "id": "_FLA8WqvV7Li"
      },
      "source": [
        "# End of Case Study"
      ]
    }
  ],
  "metadata": {
    "kernelspec": {
      "display_name": "Python 3",
      "language": "python",
      "name": "python3"
    },
    "language_info": {
      "codemirror_mode": {
        "name": "ipython",
        "version": 3
      },
      "file_extension": ".py",
      "mimetype": "text/x-python",
      "name": "python",
      "nbconvert_exporter": "python",
      "pygments_lexer": "ipython3",
      "version": "3.6.1"
    },
    "colab": {
      "provenance": [],
      "toc_visible": true,
      "include_colab_link": true
    }
  },
  "nbformat": 4,
  "nbformat_minor": 0
}