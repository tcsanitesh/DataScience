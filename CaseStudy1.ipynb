{
 "cells": [
  {
   "cell_type": "markdown",
   "id": "8fed24d3",
   "metadata": {},
   "source": [
    "### 1.Write a program which will find factors of given number and find whether the factor is even or odd"
   ]
  },
  {
   "cell_type": "code",
   "execution_count": 3,
   "id": "9c0eb12e",
   "metadata": {},
   "outputs": [
    {
     "name": "stdout",
     "output_type": "stream",
     "text": [
      "Enter a number: 15\n",
      "[1, 3, 5, 15] is factor of 15\n",
      "1 is odd\n",
      "3 is odd\n",
      "5 is odd\n",
      "15 is odd\n"
     ]
    }
   ],
   "source": [
    "number = int(input(\"Enter a number: \"))\n",
    "factors= []\n",
    "for i in range(1 , number+1):\n",
    "    if number%i == 0:\n",
    "        factors.append(i)\n",
    "        \n",
    "print (f\"{factors} is factor of {number}\")        \n",
    "        \n",
    "for factor in factors:\n",
    "    if factor%2 == 0:\n",
    "        print (f\"{factor} is even\")\n",
    "    else:\n",
    "        print (f\"{factor} is odd\")\n",
    "    "
   ]
  },
  {
   "cell_type": "code",
   "execution_count": null,
   "id": "c5e33f80-2fcd-40c1-818a-873124eb439a",
   "metadata": {},
   "outputs": [],
   "source": []
  },
  {
   "cell_type": "markdown",
   "id": "227041a0",
   "metadata": {},
   "source": [
    "### 2.Write a code which accepts a sequence of words as input and prints the words in a sequence after sorting them alphabetically"
   ]
  },
  {
   "cell_type": "code",
   "execution_count": 9,
   "id": "28f2dab2",
   "metadata": {},
   "outputs": [
    {
     "name": "stdout",
     "output_type": "stream",
     "text": [
      "Enter a sentance having more than 2 words and having space between words :my name is anitesh\n",
      "anitesh \n",
      "is \n",
      "my \n",
      "name \n",
      "Sentance with sorted word: anitesh is my name\n"
     ]
    }
   ],
   "source": [
    "input_text = input(\"Enter a sentance having more than 2 words and having space between words :\")\n",
    "input_list= input_text.split()\n",
    "input_sort =  sorted(input_list)\n",
    "for word in input_sort:\n",
    "    print(f\"{word} \")\n",
    "\n",
    "print(\"Sentance with sorted word:\", \" \".join(input_sort))"
   ]
  },
  {
   "cell_type": "markdown",
   "id": "e9ce7af7",
   "metadata": {},
   "source": [
    "### 3.Write a program, whichwill find all the numbers between 1000 and 3000 (both included) such that each digit of a number is an even number. The numbers obtained should be printed in a comma separated sequence on a single line"
   ]
  },
  {
   "cell_type": "code",
   "execution_count": 28,
   "id": "51d530e4",
   "metadata": {},
   "outputs": [
    {
     "name": "stdout",
     "output_type": "stream",
     "text": [
      "2000, 2002, 2004, 2006, 2008, 2020, 2022, 2024, 2026, 2028, 2040, 2042, 2044, 2046, 2048, 2060, 2062, 2064, 2066, 2068, 2080, 2082, 2084, 2086, 2088, 2200, 2202, 2204, 2206, 2208, 2220, 2222, 2224, 2226, 2228, 2240, 2242, 2244, 2246, 2248, 2260, 2262, 2264, 2266, 2268, 2280, 2282, 2284, 2286, 2288, 2400, 2402, 2404, 2406, 2408, 2420, 2422, 2424, 2426, 2428, 2440, 2442, 2444, 2446, 2448, 2460, 2462, 2464, 2466, 2468, 2480, 2482, 2484, 2486, 2488, 2600, 2602, 2604, 2606, 2608, 2620, 2622, 2624, 2626, 2628, 2640, 2642, 2644, 2646, 2648, 2660, 2662, 2664, 2666, 2668, 2680, 2682, 2684, 2686, 2688, 2800, 2802, 2804, 2806, 2808, 2820, 2822, 2824, 2826, 2828, 2840, 2842, 2844, 2846, 2848, 2860, 2862, 2864, 2866, 2868, 2880, 2882, 2884, 2886, 2888\n"
     ]
    }
   ],
   "source": [
    "final_list = []\n",
    "for i in range(1000, 3001):\n",
    "    all_even=True\n",
    "    for x in str(i):\n",
    "        if int(x)%2 != 0:\n",
    "            all_even=False\n",
    "            break\n",
    "    \n",
    "    if all_even:\n",
    "        final_list.append(i)\n",
    "        \n",
    "print(*final_list, sep=\", \")    "
   ]
  },
  {
   "cell_type": "markdown",
   "id": "4dcd74e5",
   "metadata": {},
   "source": [
    "### 4.Write a program that accepts a sentence and calculate the number of letters and digits."
   ]
  },
  {
   "cell_type": "code",
   "execution_count": 30,
   "id": "192d0afc",
   "metadata": {},
   "outputs": [
    {
     "name": "stdout",
     "output_type": "stream",
     "text": [
      "Enter a setence :my userid is anitesh007\n",
      "Letter:  17\n",
      "Digit:  3\n"
     ]
    }
   ],
   "source": [
    "input_sent = input(\"Enter a setence :\")\n",
    "letter = 0\n",
    "digit = 0\n",
    "for char in input_sent:\n",
    "    if char.isalpha():\n",
    "        letter += 1\n",
    "        \n",
    "    elif char.isdigit():\n",
    "        digit += 1\n",
    "        \n",
    "print(\"Letter: \",letter)\n",
    "print(\"Digit: \",digit)"
   ]
  },
  {
   "cell_type": "markdown",
   "id": "01f6005e",
   "metadata": {},
   "source": [
    "### 5.Design a code which will find the given number is Palindrome number or not"
   ]
  },
  {
   "cell_type": "code",
   "execution_count": 33,
   "id": "6040364b",
   "metadata": {},
   "outputs": [
    {
     "name": "stdout",
     "output_type": "stream",
     "text": [
      "Enter a number : 2343432\n",
      "2343432 is a Palindrome number\n"
     ]
    }
   ],
   "source": [
    "number= input(\"Enter a number : \")\n",
    "number_rvr = number[::-1]\n",
    "if number == number_rvr:\n",
    "    print(f\"{number} is a Palindrome number\")\n",
    "else:\n",
    "    print(f\"{number} is not a Palindrome number\")"
   ]
  }
 ],
 "metadata": {
  "kernelspec": {
   "display_name": "Python 3 (ipykernel)",
   "language": "python",
   "name": "python3"
  },
  "language_info": {
   "codemirror_mode": {
    "name": "ipython",
    "version": 3
   },
   "file_extension": ".py",
   "mimetype": "text/x-python",
   "name": "python",
   "nbconvert_exporter": "python",
   "pygments_lexer": "ipython3",
   "version": "3.11.5"
  }
 },
 "nbformat": 4,
 "nbformat_minor": 5
}
