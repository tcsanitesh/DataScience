{
  "cells": [
    {
      "cell_type": "markdown",
      "metadata": {
        "id": "view-in-github",
        "colab_type": "text"
      },
      "source": [
        "<a href=\"https://colab.research.google.com/github/tcsanitesh/DataScience/blob/main/CaseStudy1_Numpy_pandas_matplotlib.ipynb\" target=\"_parent\"><img src=\"https://colab.research.google.com/assets/colab-badge.svg\" alt=\"Open In Colab\"/></a>"
      ]
    },
    {
      "cell_type": "markdown",
      "source": [
        "Extract data from the given SalaryGender CSV file and store the data from each\n",
        "column in a separate NumPy array"
      ],
      "metadata": {
        "id": "AwD1cbKvA42f"
      },
      "id": "AwD1cbKvA42f"
    },
    {
      "cell_type": "code",
      "execution_count": null,
      "id": "d24bee25-4d42-4348-aefb-fa4389c15ccd",
      "metadata": {
        "tags": [],
        "colab": {
          "base_uri": "https://localhost:8080/"
        },
        "id": "d24bee25-4d42-4348-aefb-fa4389c15ccd",
        "outputId": "38490927-6222-43cc-9d3e-9febbca8f0c4"
      },
      "outputs": [
        {
          "output_type": "stream",
          "name": "stdout",
          "text": [
            "[140.    30.    35.1   30.    80.    30.    60.    31.1  125.    51.\n",
            "   3.    46.   150.     3.   130.    15.   130.    84.   190.    74.\n",
            "  73.    10.    50.     7.     9.5   15.2   28.6   20.    72.    81.\n",
            " 100.    90.    90.    35.    30.    25.    52.     9.    63.    72.\n",
            "  16.    92.   106.     2.5    9.    32.    32.    55.    52.    28.\n",
            "  20.    14.7   22.3   34.8   84.    19.   160.    65.    55.     4.6\n",
            " 102.    20.    62.    55.    45.6   40.    24.    35.    48.    20.\n",
            "  40.7   15.     0.25 152.    39.8   12.    30.   120.     1.7   36.\n",
            "  96.    38.    90.     9.    25.8   22.    38.8   72.    89.    41.\n",
            "  89.    25.    52.   115.    66.    18.6  152.     1.8   35.     4.  ]\n",
            "[47 65 56 23 53 27 53 30 44 63 22 59 60 28 65 25 65 47 66 45 46 24 60 63\n",
            " 27 66 36 30 51 65 45 52 54 30 52 26 49 22 34 60 28 58 77 67 27 48 45 49\n",
            " 36 65 32 49 67 22 49 43 61 43 52 51 66 29 62 56 61 56 41 24 60 43 57 23\n",
            " 53 71 20 27 69 58 37 32 33 32 60 71 30 62 54 42 62 51 71 29 55 54 55 26\n",
            " 56 28 44 24]\n",
            "[1 0 0 1 0 0 1 0 1 1 1 1 1 1 1 0 1 0 1 1 0 0 0 0 0 1 1 0 0 1 0 0 0 1 0 1 0\n",
            " 0 1 1 1 0 1 1 0 0 0 1 1 0 0 0 1 0 0 1 1 0 0 1 1 1 0 1 1 0 0 1 0 0 0 1 0 1\n",
            " 0 0 1 1 1 1 1 0 1 1 0 0 0 1 1 0 1 0 1 0 0 1 1 1 0 0]\n",
            "[1 1 0 0 1 0 0 0 1 1 0 0 1 0 0 0 0 1 1 1 0 0 0 0 0 1 1 0 1 1 1 1 1 0 0 0 0\n",
            " 0 1 0 0 1 1 0 0 1 0 1 0 1 0 0 0 0 1 0 1 1 0 0 1 0 0 1 0 0 0 0 0 0 0 0 0 1\n",
            " 0 0 1 1 0 1 1 1 0 0 0 0 0 1 0 1 1 0 1 0 1 0 1 0 0 0]\n"
          ]
        }
      ],
      "source": [
        "import numpy as np\n",
        "import pandas as pd\n",
        "df = pd.read_csv(\"https://raw.githubusercontent.com/tcsanitesh/DataScience/main/SalaryGender.csv\")\n",
        "\n",
        "salary = np.array(df[\"Salary\"])\n",
        "gender = np.array(df[\"Gender\"])\n",
        "age = np.array(df[\"Age\"])\n",
        "phd = np.array(df[\"PhD\"])\n",
        "print(salary)\n",
        "print(age)\n",
        "print(gender)\n",
        "print(phd)"
      ]
    },
    {
      "cell_type": "markdown",
      "source": [
        ". Find:\n",
        "1. The number of men with a PhD\n",
        "2. The number of women with a PhD"
      ],
      "metadata": {
        "id": "w9hceamvBBc5"
      },
      "id": "w9hceamvBBc5"
    },
    {
      "cell_type": "code",
      "source": [
        "from numpy.lib.npyio import genfromtxt\n",
        "import numpy as np\n",
        "arr_np = genfromtxt(\"https://raw.githubusercontent.com/tcsanitesh/DataScience/main/SalaryGender.csv\", delimiter =\",\")\n",
        "#print(arr_np)\n",
        "print(arr_np[:,0:1])\n",
        "#np.savetxt(\"sal_gen_np.csv\", arr_np, delimiter = \",\")"
      ],
      "metadata": {
        "colab": {
          "base_uri": "https://localhost:8080/"
        },
        "id": "5XXG5gwYtuu8",
        "outputId": "171394f3-5c42-4f9b-dfd5-c4f8cc151c97"
      },
      "id": "5XXG5gwYtuu8",
      "execution_count": null,
      "outputs": [
        {
          "output_type": "stream",
          "name": "stdout",
          "text": [
            "[[   nan]\n",
            " [140.  ]\n",
            " [ 30.  ]\n",
            " [ 35.1 ]\n",
            " [ 30.  ]\n",
            " [ 80.  ]\n",
            " [ 30.  ]\n",
            " [ 60.  ]\n",
            " [ 31.1 ]\n",
            " [125.  ]\n",
            " [ 51.  ]\n",
            " [  3.  ]\n",
            " [ 46.  ]\n",
            " [150.  ]\n",
            " [  3.  ]\n",
            " [130.  ]\n",
            " [ 15.  ]\n",
            " [130.  ]\n",
            " [ 84.  ]\n",
            " [190.  ]\n",
            " [ 74.  ]\n",
            " [ 73.  ]\n",
            " [ 10.  ]\n",
            " [ 50.  ]\n",
            " [  7.  ]\n",
            " [  9.5 ]\n",
            " [ 15.2 ]\n",
            " [ 28.6 ]\n",
            " [ 20.  ]\n",
            " [ 72.  ]\n",
            " [ 81.  ]\n",
            " [100.  ]\n",
            " [ 90.  ]\n",
            " [ 90.  ]\n",
            " [ 35.  ]\n",
            " [ 30.  ]\n",
            " [ 25.  ]\n",
            " [ 52.  ]\n",
            " [  9.  ]\n",
            " [ 63.  ]\n",
            " [ 72.  ]\n",
            " [ 16.  ]\n",
            " [ 92.  ]\n",
            " [106.  ]\n",
            " [  2.5 ]\n",
            " [  9.  ]\n",
            " [ 32.  ]\n",
            " [ 32.  ]\n",
            " [ 55.  ]\n",
            " [ 52.  ]\n",
            " [ 28.  ]\n",
            " [ 20.  ]\n",
            " [ 14.7 ]\n",
            " [ 22.3 ]\n",
            " [ 34.8 ]\n",
            " [ 84.  ]\n",
            " [ 19.  ]\n",
            " [160.  ]\n",
            " [ 65.  ]\n",
            " [ 55.  ]\n",
            " [  4.6 ]\n",
            " [102.  ]\n",
            " [ 20.  ]\n",
            " [ 62.  ]\n",
            " [ 55.  ]\n",
            " [ 45.6 ]\n",
            " [ 40.  ]\n",
            " [ 24.  ]\n",
            " [ 35.  ]\n",
            " [ 48.  ]\n",
            " [ 20.  ]\n",
            " [ 40.7 ]\n",
            " [ 15.  ]\n",
            " [  0.25]\n",
            " [152.  ]\n",
            " [ 39.8 ]\n",
            " [ 12.  ]\n",
            " [ 30.  ]\n",
            " [120.  ]\n",
            " [  1.7 ]\n",
            " [ 36.  ]\n",
            " [ 96.  ]\n",
            " [ 38.  ]\n",
            " [ 90.  ]\n",
            " [  9.  ]\n",
            " [ 25.8 ]\n",
            " [ 22.  ]\n",
            " [ 38.8 ]\n",
            " [ 72.  ]\n",
            " [ 89.  ]\n",
            " [ 41.  ]\n",
            " [ 89.  ]\n",
            " [ 25.  ]\n",
            " [ 52.  ]\n",
            " [115.  ]\n",
            " [ 66.  ]\n",
            " [ 18.6 ]\n",
            " [152.  ]\n",
            " [  1.8 ]\n",
            " [ 35.  ]\n",
            " [  4.  ]]\n"
          ]
        }
      ]
    },
    {
      "cell_type": "code",
      "execution_count": null,
      "id": "f3d24157-d570-4d50-8d02-590ac4782e2f",
      "metadata": {
        "tags": [],
        "id": "f3d24157-d570-4d50-8d02-590ac4782e2f",
        "outputId": "eef46b26-e547-4f36-9545-f859c64a8f5e"
      },
      "outputs": [
        {
          "name": "stdout",
          "output_type": "stream",
          "text": [
            "Men_with_Phd :  24\n",
            "women_with_Phd :  15\n"
          ]
        }
      ],
      "source": [
        "men_with_Phd = np.sum((phd == 1) & (gender == 1))\n",
        "women_with_Phd = np.sum((phd == 1) & (gender == 0))\n",
        "\n",
        "print(\"Men_with_Phd : \", men_with_Phd)\n",
        "print(\"women_with_Phd : \", women_with_Phd)\n"
      ]
    },
    {
      "cell_type": "markdown",
      "source": [
        "Calculate the total number of people who have a PhD degree from SalaryGender\n",
        "CSV file."
      ],
      "metadata": {
        "id": "uDJh_5ZxBOVZ"
      },
      "id": "uDJh_5ZxBOVZ"
    },
    {
      "cell_type": "code",
      "execution_count": null,
      "id": "7675f923-ff03-48a2-aeee-12bf90b0eb80",
      "metadata": {
        "tags": [],
        "colab": {
          "base_uri": "https://localhost:8080/",
          "height": 1000
        },
        "id": "7675f923-ff03-48a2-aeee-12bf90b0eb80",
        "outputId": "b2b13981-de38-4217-e525-53cdf37d6249"
      },
      "outputs": [
        {
          "output_type": "execute_result",
          "data": {
            "text/plain": [
              "    Age  PhD\n",
              "0    47    1\n",
              "1    65    1\n",
              "4    53    1\n",
              "8    44    1\n",
              "9    63    1\n",
              "12   60    1\n",
              "17   47    1\n",
              "18   66    1\n",
              "19   45    1\n",
              "25   66    1\n",
              "26   36    1\n",
              "28   51    1\n",
              "29   65    1\n",
              "30   45    1\n",
              "31   52    1\n",
              "32   54    1\n",
              "38   34    1\n",
              "41   58    1\n",
              "42   77    1\n",
              "45   48    1\n",
              "47   49    1\n",
              "49   65    1\n",
              "54   49    1\n",
              "56   61    1\n",
              "57   43    1\n",
              "60   66    1\n",
              "63   56    1\n",
              "73   71    1\n",
              "76   69    1\n",
              "77   58    1\n",
              "79   32    1\n",
              "80   33    1\n",
              "81   32    1\n",
              "87   42    1\n",
              "89   51    1\n",
              "90   71    1\n",
              "92   55    1\n",
              "94   55    1\n",
              "96   56    1"
            ],
            "text/html": [
              "\n",
              "  <div id=\"df-aee540a0-a1ed-4f49-ba99-6402896bff01\" class=\"colab-df-container\">\n",
              "    <div>\n",
              "<style scoped>\n",
              "    .dataframe tbody tr th:only-of-type {\n",
              "        vertical-align: middle;\n",
              "    }\n",
              "\n",
              "    .dataframe tbody tr th {\n",
              "        vertical-align: top;\n",
              "    }\n",
              "\n",
              "    .dataframe thead th {\n",
              "        text-align: right;\n",
              "    }\n",
              "</style>\n",
              "<table border=\"1\" class=\"dataframe\">\n",
              "  <thead>\n",
              "    <tr style=\"text-align: right;\">\n",
              "      <th></th>\n",
              "      <th>Age</th>\n",
              "      <th>PhD</th>\n",
              "    </tr>\n",
              "  </thead>\n",
              "  <tbody>\n",
              "    <tr>\n",
              "      <th>0</th>\n",
              "      <td>47</td>\n",
              "      <td>1</td>\n",
              "    </tr>\n",
              "    <tr>\n",
              "      <th>1</th>\n",
              "      <td>65</td>\n",
              "      <td>1</td>\n",
              "    </tr>\n",
              "    <tr>\n",
              "      <th>4</th>\n",
              "      <td>53</td>\n",
              "      <td>1</td>\n",
              "    </tr>\n",
              "    <tr>\n",
              "      <th>8</th>\n",
              "      <td>44</td>\n",
              "      <td>1</td>\n",
              "    </tr>\n",
              "    <tr>\n",
              "      <th>9</th>\n",
              "      <td>63</td>\n",
              "      <td>1</td>\n",
              "    </tr>\n",
              "    <tr>\n",
              "      <th>12</th>\n",
              "      <td>60</td>\n",
              "      <td>1</td>\n",
              "    </tr>\n",
              "    <tr>\n",
              "      <th>17</th>\n",
              "      <td>47</td>\n",
              "      <td>1</td>\n",
              "    </tr>\n",
              "    <tr>\n",
              "      <th>18</th>\n",
              "      <td>66</td>\n",
              "      <td>1</td>\n",
              "    </tr>\n",
              "    <tr>\n",
              "      <th>19</th>\n",
              "      <td>45</td>\n",
              "      <td>1</td>\n",
              "    </tr>\n",
              "    <tr>\n",
              "      <th>25</th>\n",
              "      <td>66</td>\n",
              "      <td>1</td>\n",
              "    </tr>\n",
              "    <tr>\n",
              "      <th>26</th>\n",
              "      <td>36</td>\n",
              "      <td>1</td>\n",
              "    </tr>\n",
              "    <tr>\n",
              "      <th>28</th>\n",
              "      <td>51</td>\n",
              "      <td>1</td>\n",
              "    </tr>\n",
              "    <tr>\n",
              "      <th>29</th>\n",
              "      <td>65</td>\n",
              "      <td>1</td>\n",
              "    </tr>\n",
              "    <tr>\n",
              "      <th>30</th>\n",
              "      <td>45</td>\n",
              "      <td>1</td>\n",
              "    </tr>\n",
              "    <tr>\n",
              "      <th>31</th>\n",
              "      <td>52</td>\n",
              "      <td>1</td>\n",
              "    </tr>\n",
              "    <tr>\n",
              "      <th>32</th>\n",
              "      <td>54</td>\n",
              "      <td>1</td>\n",
              "    </tr>\n",
              "    <tr>\n",
              "      <th>38</th>\n",
              "      <td>34</td>\n",
              "      <td>1</td>\n",
              "    </tr>\n",
              "    <tr>\n",
              "      <th>41</th>\n",
              "      <td>58</td>\n",
              "      <td>1</td>\n",
              "    </tr>\n",
              "    <tr>\n",
              "      <th>42</th>\n",
              "      <td>77</td>\n",
              "      <td>1</td>\n",
              "    </tr>\n",
              "    <tr>\n",
              "      <th>45</th>\n",
              "      <td>48</td>\n",
              "      <td>1</td>\n",
              "    </tr>\n",
              "    <tr>\n",
              "      <th>47</th>\n",
              "      <td>49</td>\n",
              "      <td>1</td>\n",
              "    </tr>\n",
              "    <tr>\n",
              "      <th>49</th>\n",
              "      <td>65</td>\n",
              "      <td>1</td>\n",
              "    </tr>\n",
              "    <tr>\n",
              "      <th>54</th>\n",
              "      <td>49</td>\n",
              "      <td>1</td>\n",
              "    </tr>\n",
              "    <tr>\n",
              "      <th>56</th>\n",
              "      <td>61</td>\n",
              "      <td>1</td>\n",
              "    </tr>\n",
              "    <tr>\n",
              "      <th>57</th>\n",
              "      <td>43</td>\n",
              "      <td>1</td>\n",
              "    </tr>\n",
              "    <tr>\n",
              "      <th>60</th>\n",
              "      <td>66</td>\n",
              "      <td>1</td>\n",
              "    </tr>\n",
              "    <tr>\n",
              "      <th>63</th>\n",
              "      <td>56</td>\n",
              "      <td>1</td>\n",
              "    </tr>\n",
              "    <tr>\n",
              "      <th>73</th>\n",
              "      <td>71</td>\n",
              "      <td>1</td>\n",
              "    </tr>\n",
              "    <tr>\n",
              "      <th>76</th>\n",
              "      <td>69</td>\n",
              "      <td>1</td>\n",
              "    </tr>\n",
              "    <tr>\n",
              "      <th>77</th>\n",
              "      <td>58</td>\n",
              "      <td>1</td>\n",
              "    </tr>\n",
              "    <tr>\n",
              "      <th>79</th>\n",
              "      <td>32</td>\n",
              "      <td>1</td>\n",
              "    </tr>\n",
              "    <tr>\n",
              "      <th>80</th>\n",
              "      <td>33</td>\n",
              "      <td>1</td>\n",
              "    </tr>\n",
              "    <tr>\n",
              "      <th>81</th>\n",
              "      <td>32</td>\n",
              "      <td>1</td>\n",
              "    </tr>\n",
              "    <tr>\n",
              "      <th>87</th>\n",
              "      <td>42</td>\n",
              "      <td>1</td>\n",
              "    </tr>\n",
              "    <tr>\n",
              "      <th>89</th>\n",
              "      <td>51</td>\n",
              "      <td>1</td>\n",
              "    </tr>\n",
              "    <tr>\n",
              "      <th>90</th>\n",
              "      <td>71</td>\n",
              "      <td>1</td>\n",
              "    </tr>\n",
              "    <tr>\n",
              "      <th>92</th>\n",
              "      <td>55</td>\n",
              "      <td>1</td>\n",
              "    </tr>\n",
              "    <tr>\n",
              "      <th>94</th>\n",
              "      <td>55</td>\n",
              "      <td>1</td>\n",
              "    </tr>\n",
              "    <tr>\n",
              "      <th>96</th>\n",
              "      <td>56</td>\n",
              "      <td>1</td>\n",
              "    </tr>\n",
              "  </tbody>\n",
              "</table>\n",
              "</div>\n",
              "    <div class=\"colab-df-buttons\">\n",
              "\n",
              "  <div class=\"colab-df-container\">\n",
              "    <button class=\"colab-df-convert\" onclick=\"convertToInteractive('df-aee540a0-a1ed-4f49-ba99-6402896bff01')\"\n",
              "            title=\"Convert this dataframe to an interactive table.\"\n",
              "            style=\"display:none;\">\n",
              "\n",
              "  <svg xmlns=\"http://www.w3.org/2000/svg\" height=\"24px\" viewBox=\"0 -960 960 960\">\n",
              "    <path d=\"M120-120v-720h720v720H120Zm60-500h600v-160H180v160Zm220 220h160v-160H400v160Zm0 220h160v-160H400v160ZM180-400h160v-160H180v160Zm440 0h160v-160H620v160ZM180-180h160v-160H180v160Zm440 0h160v-160H620v160Z\"/>\n",
              "  </svg>\n",
              "    </button>\n",
              "\n",
              "  <style>\n",
              "    .colab-df-container {\n",
              "      display:flex;\n",
              "      gap: 12px;\n",
              "    }\n",
              "\n",
              "    .colab-df-convert {\n",
              "      background-color: #E8F0FE;\n",
              "      border: none;\n",
              "      border-radius: 50%;\n",
              "      cursor: pointer;\n",
              "      display: none;\n",
              "      fill: #1967D2;\n",
              "      height: 32px;\n",
              "      padding: 0 0 0 0;\n",
              "      width: 32px;\n",
              "    }\n",
              "\n",
              "    .colab-df-convert:hover {\n",
              "      background-color: #E2EBFA;\n",
              "      box-shadow: 0px 1px 2px rgba(60, 64, 67, 0.3), 0px 1px 3px 1px rgba(60, 64, 67, 0.15);\n",
              "      fill: #174EA6;\n",
              "    }\n",
              "\n",
              "    .colab-df-buttons div {\n",
              "      margin-bottom: 4px;\n",
              "    }\n",
              "\n",
              "    [theme=dark] .colab-df-convert {\n",
              "      background-color: #3B4455;\n",
              "      fill: #D2E3FC;\n",
              "    }\n",
              "\n",
              "    [theme=dark] .colab-df-convert:hover {\n",
              "      background-color: #434B5C;\n",
              "      box-shadow: 0px 1px 3px 1px rgba(0, 0, 0, 0.15);\n",
              "      filter: drop-shadow(0px 1px 2px rgba(0, 0, 0, 0.3));\n",
              "      fill: #FFFFFF;\n",
              "    }\n",
              "  </style>\n",
              "\n",
              "    <script>\n",
              "      const buttonEl =\n",
              "        document.querySelector('#df-aee540a0-a1ed-4f49-ba99-6402896bff01 button.colab-df-convert');\n",
              "      buttonEl.style.display =\n",
              "        google.colab.kernel.accessAllowed ? 'block' : 'none';\n",
              "\n",
              "      async function convertToInteractive(key) {\n",
              "        const element = document.querySelector('#df-aee540a0-a1ed-4f49-ba99-6402896bff01');\n",
              "        const dataTable =\n",
              "          await google.colab.kernel.invokeFunction('convertToInteractive',\n",
              "                                                    [key], {});\n",
              "        if (!dataTable) return;\n",
              "\n",
              "        const docLinkHtml = 'Like what you see? Visit the ' +\n",
              "          '<a target=\"_blank\" href=https://colab.research.google.com/notebooks/data_table.ipynb>data table notebook</a>'\n",
              "          + ' to learn more about interactive tables.';\n",
              "        element.innerHTML = '';\n",
              "        dataTable['output_type'] = 'display_data';\n",
              "        await google.colab.output.renderOutput(dataTable, element);\n",
              "        const docLink = document.createElement('div');\n",
              "        docLink.innerHTML = docLinkHtml;\n",
              "        element.appendChild(docLink);\n",
              "      }\n",
              "    </script>\n",
              "  </div>\n",
              "\n",
              "\n",
              "<div id=\"df-b178818a-1129-4bc6-abdb-cab20a555ea6\">\n",
              "  <button class=\"colab-df-quickchart\" onclick=\"quickchart('df-b178818a-1129-4bc6-abdb-cab20a555ea6')\"\n",
              "            title=\"Suggest charts.\"\n",
              "            style=\"display:none;\">\n",
              "\n",
              "<svg xmlns=\"http://www.w3.org/2000/svg\" height=\"24px\"viewBox=\"0 0 24 24\"\n",
              "     width=\"24px\">\n",
              "    <g>\n",
              "        <path d=\"M19 3H5c-1.1 0-2 .9-2 2v14c0 1.1.9 2 2 2h14c1.1 0 2-.9 2-2V5c0-1.1-.9-2-2-2zM9 17H7v-7h2v7zm4 0h-2V7h2v10zm4 0h-2v-4h2v4z\"/>\n",
              "    </g>\n",
              "</svg>\n",
              "  </button>\n",
              "\n",
              "<style>\n",
              "  .colab-df-quickchart {\n",
              "      --bg-color: #E8F0FE;\n",
              "      --fill-color: #1967D2;\n",
              "      --hover-bg-color: #E2EBFA;\n",
              "      --hover-fill-color: #174EA6;\n",
              "      --disabled-fill-color: #AAA;\n",
              "      --disabled-bg-color: #DDD;\n",
              "  }\n",
              "\n",
              "  [theme=dark] .colab-df-quickchart {\n",
              "      --bg-color: #3B4455;\n",
              "      --fill-color: #D2E3FC;\n",
              "      --hover-bg-color: #434B5C;\n",
              "      --hover-fill-color: #FFFFFF;\n",
              "      --disabled-bg-color: #3B4455;\n",
              "      --disabled-fill-color: #666;\n",
              "  }\n",
              "\n",
              "  .colab-df-quickchart {\n",
              "    background-color: var(--bg-color);\n",
              "    border: none;\n",
              "    border-radius: 50%;\n",
              "    cursor: pointer;\n",
              "    display: none;\n",
              "    fill: var(--fill-color);\n",
              "    height: 32px;\n",
              "    padding: 0;\n",
              "    width: 32px;\n",
              "  }\n",
              "\n",
              "  .colab-df-quickchart:hover {\n",
              "    background-color: var(--hover-bg-color);\n",
              "    box-shadow: 0 1px 2px rgba(60, 64, 67, 0.3), 0 1px 3px 1px rgba(60, 64, 67, 0.15);\n",
              "    fill: var(--button-hover-fill-color);\n",
              "  }\n",
              "\n",
              "  .colab-df-quickchart-complete:disabled,\n",
              "  .colab-df-quickchart-complete:disabled:hover {\n",
              "    background-color: var(--disabled-bg-color);\n",
              "    fill: var(--disabled-fill-color);\n",
              "    box-shadow: none;\n",
              "  }\n",
              "\n",
              "  .colab-df-spinner {\n",
              "    border: 2px solid var(--fill-color);\n",
              "    border-color: transparent;\n",
              "    border-bottom-color: var(--fill-color);\n",
              "    animation:\n",
              "      spin 1s steps(1) infinite;\n",
              "  }\n",
              "\n",
              "  @keyframes spin {\n",
              "    0% {\n",
              "      border-color: transparent;\n",
              "      border-bottom-color: var(--fill-color);\n",
              "      border-left-color: var(--fill-color);\n",
              "    }\n",
              "    20% {\n",
              "      border-color: transparent;\n",
              "      border-left-color: var(--fill-color);\n",
              "      border-top-color: var(--fill-color);\n",
              "    }\n",
              "    30% {\n",
              "      border-color: transparent;\n",
              "      border-left-color: var(--fill-color);\n",
              "      border-top-color: var(--fill-color);\n",
              "      border-right-color: var(--fill-color);\n",
              "    }\n",
              "    40% {\n",
              "      border-color: transparent;\n",
              "      border-right-color: var(--fill-color);\n",
              "      border-top-color: var(--fill-color);\n",
              "    }\n",
              "    60% {\n",
              "      border-color: transparent;\n",
              "      border-right-color: var(--fill-color);\n",
              "    }\n",
              "    80% {\n",
              "      border-color: transparent;\n",
              "      border-right-color: var(--fill-color);\n",
              "      border-bottom-color: var(--fill-color);\n",
              "    }\n",
              "    90% {\n",
              "      border-color: transparent;\n",
              "      border-bottom-color: var(--fill-color);\n",
              "    }\n",
              "  }\n",
              "</style>\n",
              "\n",
              "  <script>\n",
              "    async function quickchart(key) {\n",
              "      const quickchartButtonEl =\n",
              "        document.querySelector('#' + key + ' button');\n",
              "      quickchartButtonEl.disabled = true;  // To prevent multiple clicks.\n",
              "      quickchartButtonEl.classList.add('colab-df-spinner');\n",
              "      try {\n",
              "        const charts = await google.colab.kernel.invokeFunction(\n",
              "            'suggestCharts', [key], {});\n",
              "      } catch (error) {\n",
              "        console.error('Error during call to suggestCharts:', error);\n",
              "      }\n",
              "      quickchartButtonEl.classList.remove('colab-df-spinner');\n",
              "      quickchartButtonEl.classList.add('colab-df-quickchart-complete');\n",
              "    }\n",
              "    (() => {\n",
              "      let quickchartButtonEl =\n",
              "        document.querySelector('#df-b178818a-1129-4bc6-abdb-cab20a555ea6 button');\n",
              "      quickchartButtonEl.style.display =\n",
              "        google.colab.kernel.accessAllowed ? 'block' : 'none';\n",
              "    })();\n",
              "  </script>\n",
              "</div>\n",
              "    </div>\n",
              "  </div>\n"
            ]
          },
          "metadata": {},
          "execution_count": 64
        }
      ],
      "source": [
        "df1 = df[[\"Age\",\"PhD\"]]\n",
        "df1= df1[df1[\"PhD\"] != 0 ]\n",
        "#df1= df1.drop(\"PhD\", axis=1 )\n",
        "df1"
      ]
    },
    {
      "cell_type": "code",
      "execution_count": null,
      "id": "24da1f98-9621-4421-b64f-880ca64aa18c",
      "metadata": {
        "colab": {
          "base_uri": "https://localhost:8080/"
        },
        "id": "24da1f98-9621-4421-b64f-880ca64aa18c",
        "outputId": "52033d8b-ce77-4fd6-98a6-36834d7da470"
      },
      "outputs": [
        {
          "output_type": "stream",
          "name": "stdout",
          "text": [
            "39\n"
          ]
        }
      ],
      "source": [
        "df = df[df['PhD']==1]\n",
        "total_phd_count = df.shape[0]\n",
        "print(total_phd_count)"
      ]
    },
    {
      "cell_type": "markdown",
      "source": [
        "How do you Count The Number Of Times Each Value Appears In An Array Of\n",
        "Integers?\n",
        "[0, 5, 4, 0, 4, 4, 3, 0, 0, 5, 2, 1, 1, 9]\n",
        "Answer should be array([4, 2, 1, 1, 3, 2, 0, 0, 0, 1]) which means 0 comes 4 times,\n",
        "1 comes 2 times, 2 comes 1 time, 3 comes 1 time and so on.\n"
      ],
      "metadata": {
        "id": "q-i8a1ImAr3q"
      },
      "id": "q-i8a1ImAr3q"
    },
    {
      "cell_type": "code",
      "source": [
        "from collections import Counter\n",
        "import numpy as np\n",
        "\n",
        "arr5 = [0, 5, 4, 0, 4, 4, 3, 0, 0, 5, 2, 1, 1, 9]\n",
        "\n",
        "counts = Counter(arr5)\n",
        "\n",
        "# Create a NumPy array from the counts\n",
        "result = np.array([counts[i] for i in range(max(arr5) + 1)])\n",
        "print(result)"
      ],
      "metadata": {
        "colab": {
          "base_uri": "https://localhost:8080/"
        },
        "id": "M2rEnyCnAvVV",
        "outputId": "c8aa3e86-a6af-4374-f220-3750a66df444"
      },
      "id": "M2rEnyCnAvVV",
      "execution_count": null,
      "outputs": [
        {
          "output_type": "stream",
          "name": "stdout",
          "text": [
            "[4 2 1 1 3 2 0 0 0 1]\n"
          ]
        }
      ]
    },
    {
      "cell_type": "markdown",
      "source": [
        "Create a numpy array [[0, 1, 2], [ 3, 4, 5], [ 6, 7, 8],[ 9, 10, 11]]) and filter the elements greater than 5."
      ],
      "metadata": {
        "id": "uDevaUCF8sE6"
      },
      "id": "uDevaUCF8sE6"
    },
    {
      "cell_type": "code",
      "source": [
        "import numpy as np\n",
        "original_arr = np.array([[0, 1, 2], [ 3, 4, 5], [ 6, 7, 8],[ 9, 10, 11]])\n",
        "print(original_arr)\n",
        "filter_arr = original_arr[original_arr>5]\n",
        "print(filter_arr)"
      ],
      "metadata": {
        "colab": {
          "base_uri": "https://localhost:8080/"
        },
        "id": "ZdqX_QsvCXlt",
        "outputId": "526507fb-b9a5-4046-b32e-fbbbc63c47d5"
      },
      "id": "ZdqX_QsvCXlt",
      "execution_count": null,
      "outputs": [
        {
          "output_type": "stream",
          "name": "stdout",
          "text": [
            "[[ 0  1  2]\n",
            " [ 3  4  5]\n",
            " [ 6  7  8]\n",
            " [ 9 10 11]]\n",
            "[ 6  7  8  9 10 11]\n"
          ]
        }
      ]
    },
    {
      "cell_type": "markdown",
      "source": [
        "Create a numpy array having NaN (Not a Number) and print it.\n",
        "array([ nan, 1., 2., nan, 3., 4., 5.])\n",
        "Print the same array omitting all elements which are nan"
      ],
      "metadata": {
        "id": "j5M37WV0-Fmw"
      },
      "id": "j5M37WV0-Fmw"
    },
    {
      "cell_type": "code",
      "source": [
        "arr = np.array([ np.NaN, 1., 2., np.NaN, 3., 4., 5.])\n",
        "print(arr)\n",
        "filter_arr = arr[~np.isnan(arr)]\n",
        "print(filter_arr)"
      ],
      "metadata": {
        "colab": {
          "base_uri": "https://localhost:8080/"
        },
        "id": "8qrdXGQw-Juy",
        "outputId": "fca9a47a-91c4-45c4-b629-109ddbf384db"
      },
      "id": "8qrdXGQw-Juy",
      "execution_count": null,
      "outputs": [
        {
          "output_type": "stream",
          "name": "stdout",
          "text": [
            "[nan  1.  2. nan  3.  4.  5.]\n",
            "[1. 2. 3. 4. 5.]\n"
          ]
        }
      ]
    },
    {
      "cell_type": "markdown",
      "source": [
        ". Create a 10x10 array with random values and find the minimum and maximum\n",
        "values.\n"
      ],
      "metadata": {
        "id": "MzXwvRJC_ekm"
      },
      "id": "MzXwvRJC_ekm"
    },
    {
      "cell_type": "code",
      "source": [
        "random_arr =np.random.rand(10,10)\n",
        "min_value = np.min(random_arr)\n",
        "max_value = np.min(random_arr)\n",
        "print(f\"Random Array : {random_arr} with Min Num : {min_value} and Max Nm : {max_value}\")"
      ],
      "metadata": {
        "colab": {
          "base_uri": "https://localhost:8080/"
        },
        "id": "0tXw2Ehj_h4G",
        "outputId": "92e24837-a7a7-4bf1-86e3-58a2180952fe"
      },
      "id": "0tXw2Ehj_h4G",
      "execution_count": null,
      "outputs": [
        {
          "output_type": "stream",
          "name": "stdout",
          "text": [
            "Random Array : [[0.83455634 0.65002925 0.59761219 0.82893238 0.70465515 0.4962792\n",
            "  0.17974863 0.26170524 0.51989739 0.72710052]\n",
            " [0.04504802 0.07663224 0.14123697 0.32768896 0.03467042 0.85415859\n",
            "  0.60065667 0.06894654 0.32852792 0.60377262]\n",
            " [0.1150017  0.45819497 0.25894008 0.25499868 0.51204974 0.56917539\n",
            "  0.98792316 0.68703994 0.26410867 0.81081954]\n",
            " [0.0737999  0.0049511  0.99302696 0.69846197 0.7149102  0.88641315\n",
            "  0.0969994  0.93274548 0.78163481 0.06713265]\n",
            " [0.38682959 0.59876048 0.14218582 0.93678082 0.85768019 0.21526064\n",
            "  0.74184907 0.50591728 0.10198024 0.26580292]\n",
            " [0.0886991  0.45756223 0.28531688 0.32184473 0.89158289 0.39632348\n",
            "  0.67733389 0.38221651 0.27288912 0.6523984 ]\n",
            " [0.63057403 0.64635473 0.94849639 0.61917239 0.2643419  0.95442573\n",
            "  0.45591879 0.44071672 0.32728457 0.73083948]\n",
            " [0.79805484 0.67175623 0.68530264 0.21896045 0.87768244 0.85513799\n",
            "  0.77833397 0.75466529 0.07983109 0.94226294]\n",
            " [0.05691584 0.0346408  0.38895509 0.73809792 0.21637749 0.53341251\n",
            "  0.61411617 0.6281033  0.1380132  0.83665916]\n",
            " [0.78936642 0.19401318 0.62066443 0.66509862 0.55323003 0.16564425\n",
            "  0.13269652 0.30039944 0.44088439 0.83312986]] with Min Num : 0.004951098756208472 and Max Nm : 0.004951098756208472\n"
          ]
        }
      ]
    },
    {
      "cell_type": "markdown",
      "source": [
        "Create a random vector of size 30 and find the mean value"
      ],
      "metadata": {
        "id": "_k3hX5PhBk0E"
      },
      "id": "_k3hX5PhBk0E"
    },
    {
      "cell_type": "code",
      "source": [
        "random_arr =np.random.rand(30)\n",
        "mean_value = np.mean(random_arr)\n",
        "print(f\"Random Array : {random_arr} with Mean Num : {mean_value} \")"
      ],
      "metadata": {
        "colab": {
          "base_uri": "https://localhost:8080/"
        },
        "id": "rCHtgwGuBl1T",
        "outputId": "04136378-df05-46ce-9fdb-c111a89854d0"
      },
      "id": "rCHtgwGuBl1T",
      "execution_count": null,
      "outputs": [
        {
          "output_type": "stream",
          "name": "stdout",
          "text": [
            "Random Array : [0.59723968 0.71676023 0.63744931 0.70275294 0.02067814 0.43876819\n",
            " 0.84343269 0.80220003 0.86727592 0.78587164 0.16826988 0.55618845\n",
            " 0.65583108 0.26498988 0.43255022 0.22480576 0.40377854 0.22323185\n",
            " 0.45675715 0.35277465 0.32184805 0.92362575 0.36622861 0.49439369\n",
            " 0.65512117 0.87545169 0.25607604 0.82339654 0.51271741 0.05690638] with Mean Num : 0.5145790522618654 \n"
          ]
        }
      ]
    },
    {
      "cell_type": "markdown",
      "source": [
        "Create numpy array having elements 0 to 10 And negate all the elements between\n",
        "3 and 9\n"
      ],
      "metadata": {
        "id": "82iNcbQQCOHV"
      },
      "id": "82iNcbQQCOHV"
    },
    {
      "cell_type": "code",
      "source": [
        "arr = np.arange(11)\n",
        "arr[(arr>=3) & (arr<=9)]*= -1\n",
        "arr"
      ],
      "metadata": {
        "colab": {
          "base_uri": "https://localhost:8080/"
        },
        "id": "pPBBxC-2CO6x",
        "outputId": "89787e54-9634-4c01-8796-0fa16d64f4fd"
      },
      "id": "pPBBxC-2CO6x",
      "execution_count": null,
      "outputs": [
        {
          "output_type": "execute_result",
          "data": {
            "text/plain": [
              "array([ 0,  1,  2, -3, -4, -5, -6, -7, -8, -9, 10])"
            ]
          },
          "metadata": {},
          "execution_count": 22
        }
      ]
    },
    {
      "cell_type": "markdown",
      "source": [
        "Create a random array of 3 rows and 3 columns and sort it according to 1st column, 2nd column or 3rd column."
      ],
      "metadata": {
        "id": "qdCGb-IwEjQ9"
      },
      "id": "qdCGb-IwEjQ9"
    },
    {
      "cell_type": "code",
      "source": [
        "random_arr = np.random.rand(3, 3)\n",
        "\n",
        "sorted_by_1st_col = random_arr[random_arr[:, 0].argsort()]\n",
        "sorted_by_2nd_col = random_arr[random_arr[:, 1].argsort()]\n",
        "sorted_by_3rd_col = random_arr[random_arr[:, 2].argsort()]\n",
        "\n",
        "print(\"\\nSorted by 1st column:\")\n",
        "print(sorted_by_1st_col)\n",
        "\n",
        "print(\"\\nSorted by 2nd column:\")\n",
        "print(sorted_by_2nd_col)\n",
        "\n",
        "print(\"\\nSorted by 3rd column:\")\n",
        "print(sorted_by_3rd_col)"
      ],
      "metadata": {
        "colab": {
          "base_uri": "https://localhost:8080/"
        },
        "id": "JHkN8_PaEl6-",
        "outputId": "2a47e362-fba4-4d2c-e49e-3d2cbab30763"
      },
      "id": "JHkN8_PaEl6-",
      "execution_count": null,
      "outputs": [
        {
          "output_type": "stream",
          "name": "stdout",
          "text": [
            "\n",
            "Sorted by 1st column:\n",
            "[[0.04769939 0.43185564 0.85270607]\n",
            " [0.21858775 0.77540941 0.2303533 ]\n",
            " [0.83991163 0.07262342 0.52195666]]\n",
            "\n",
            "Sorted by 2nd column:\n",
            "[[0.83991163 0.07262342 0.52195666]\n",
            " [0.04769939 0.43185564 0.85270607]\n",
            " [0.21858775 0.77540941 0.2303533 ]]\n",
            "\n",
            "Sorted by 3rd column:\n",
            "[[0.21858775 0.77540941 0.2303533 ]\n",
            " [0.83991163 0.07262342 0.52195666]\n",
            " [0.04769939 0.43185564 0.85270607]]\n"
          ]
        }
      ]
    },
    {
      "cell_type": "markdown",
      "source": [
        "Create a four dimensions array get sum over the last two axis at once."
      ],
      "metadata": {
        "id": "SFqJ1cxaH7ES"
      },
      "id": "SFqJ1cxaH7ES"
    },
    {
      "cell_type": "code",
      "source": [
        "import numpy as np\n",
        "array = np.random.rand(5,4,3,2)\n",
        "result = np.sum(array,axis=(-2,-3))\n",
        "print(f\"Original array :{array}\")\n",
        "print(f\"final array :{result}\")\n"
      ],
      "metadata": {
        "id": "dgxNug_VFvfj",
        "outputId": "42794414-eeb1-4798-b248-274b6e3af57d",
        "colab": {
          "base_uri": "https://localhost:8080/"
        }
      },
      "id": "dgxNug_VFvfj",
      "execution_count": null,
      "outputs": [
        {
          "output_type": "stream",
          "name": "stdout",
          "text": [
            "Original array :[[[[0.75565869 0.76999671]\n",
            "   [0.12532602 0.94921026]\n",
            "   [0.92890612 0.04053967]]\n",
            "\n",
            "  [[0.26952641 0.79021124]\n",
            "   [0.50198614 0.41875718]\n",
            "   [0.60189527 0.04227525]]\n",
            "\n",
            "  [[0.11327767 0.50154409]\n",
            "   [0.35850157 0.13075685]\n",
            "   [0.58350856 0.02843606]]\n",
            "\n",
            "  [[0.59376825 0.13228892]\n",
            "   [0.03468588 0.02626609]\n",
            "   [0.1981411  0.44304857]]]\n",
            "\n",
            "\n",
            " [[[0.07667029 0.30543852]\n",
            "   [0.64931389 0.45263573]\n",
            "   [0.72097326 0.98820892]]\n",
            "\n",
            "  [[0.36520176 0.05166995]\n",
            "   [0.94087327 0.05965042]\n",
            "   [0.28265661 0.96129086]]\n",
            "\n",
            "  [[0.86851922 0.06594739]\n",
            "   [0.47641014 0.74298634]\n",
            "   [0.7655881  0.01459527]]\n",
            "\n",
            "  [[0.90037271 0.64837639]\n",
            "   [0.78538378 0.2054771 ]\n",
            "   [0.05645825 0.14615688]]]\n",
            "\n",
            "\n",
            " [[[0.07237238 0.92809162]\n",
            "   [0.11982579 0.7817314 ]\n",
            "   [0.15006766 0.9611893 ]]\n",
            "\n",
            "  [[0.36074374 0.79345617]\n",
            "   [0.1986312  0.26553519]\n",
            "   [0.25208019 0.70338176]]\n",
            "\n",
            "  [[0.98091916 0.01218338]\n",
            "   [0.63354277 0.81495765]\n",
            "   [0.97992235 0.23595431]]\n",
            "\n",
            "  [[0.65843059 0.69879312]\n",
            "   [0.19275084 0.5622701 ]\n",
            "   [0.95164273 0.24196752]]]\n",
            "\n",
            "\n",
            " [[[0.28470974 0.58310238]\n",
            "   [0.64262404 0.39596778]\n",
            "   [0.25137467 0.74964082]]\n",
            "\n",
            "  [[0.56391993 0.36293429]\n",
            "   [0.96375203 0.34291584]\n",
            "   [0.09566863 0.75031756]]\n",
            "\n",
            "  [[0.81354463 0.30846406]\n",
            "   [0.83977848 0.39317488]\n",
            "   [0.55056712 0.02852398]]\n",
            "\n",
            "  [[0.0847309  0.50305538]\n",
            "   [0.84493952 0.0681055 ]\n",
            "   [0.09271551 0.84216956]]]\n",
            "\n",
            "\n",
            " [[[0.13122575 0.01561889]\n",
            "   [0.11266275 0.0268204 ]\n",
            "   [0.39751363 0.18590913]]\n",
            "\n",
            "  [[0.10201171 0.1995318 ]\n",
            "   [0.07953994 0.71196891]\n",
            "   [0.06343909 0.9877047 ]]\n",
            "\n",
            "  [[0.23134245 0.76133195]\n",
            "   [0.96212881 0.82893328]\n",
            "   [0.52581832 0.19176813]]\n",
            "\n",
            "  [[0.30882489 0.20731529]\n",
            "   [0.37259485 0.20934559]\n",
            "   [0.91042757 0.48266811]]]]\n",
            "final array :[[5.06518169 4.2733309 ]\n",
            " [6.88842128 4.64243376]\n",
            " [5.55092941 6.99951153]\n",
            " [6.02832521 5.32837202]\n",
            " [4.19752974 4.80891616]]\n"
          ]
        }
      ]
    },
    {
      "cell_type": "markdown",
      "source": [
        "Create a random array and swap two rows of an array.\n"
      ],
      "metadata": {
        "id": "4M-F8Ro2IKoo"
      },
      "id": "4M-F8Ro2IKoo"
    },
    {
      "cell_type": "code",
      "source": [
        "import numpy as np\n",
        "array =np.random.randint(1,100,size =(3,4))\n",
        "print(array)\n",
        "array[[0, 1]]=array[[1,0]]\n",
        "print(array)"
      ],
      "metadata": {
        "id": "5AckdqjqXtgI",
        "outputId": "aa7d99cf-188c-42a1-aa14-56d2eda21e49",
        "colab": {
          "base_uri": "https://localhost:8080/"
        }
      },
      "id": "5AckdqjqXtgI",
      "execution_count": null,
      "outputs": [
        {
          "output_type": "stream",
          "name": "stdout",
          "text": [
            "[[33 56 91 11]\n",
            " [ 8 75 75  7]\n",
            " [12 70 52 25]]\n",
            "[[ 8 75 75  7]\n",
            " [33 56 91 11]\n",
            " [12 70 52 25]]\n"
          ]
        }
      ]
    },
    {
      "cell_type": "markdown",
      "source": [
        "Create a random matrix and Compute a matrix rank"
      ],
      "metadata": {
        "id": "rgUkeTE4IM1a"
      },
      "id": "rgUkeTE4IM1a"
    },
    {
      "cell_type": "code",
      "source": [
        "import numpy as np\n",
        "array =np.random.randint(1,100,size =(3,4))\n",
        "print(array)\n",
        "rank = np.linalg.matrix_rank(array)\n",
        "print(rank)"
      ],
      "metadata": {
        "id": "qRAsdSpMc1lS",
        "outputId": "8d004ce0-94c0-408a-838b-d2b54ea5bd50",
        "colab": {
          "base_uri": "https://localhost:8080/"
        }
      },
      "id": "qRAsdSpMc1lS",
      "execution_count": null,
      "outputs": [
        {
          "output_type": "stream",
          "name": "stdout",
          "text": [
            "[[50 65 29 83]\n",
            " [15 80 62 53]\n",
            " [49 31 65 37]]\n",
            "3\n"
          ]
        }
      ]
    },
    {
      "cell_type": "markdown",
      "source": [
        "Analyse various school outcomes in Tennessee using pandas. Suppose you are a\n",
        "public school administrator. Some schools in your state of Tennessee are\n",
        "performing below average academically. Your superintendent, under pressure\n",
        "from frustrated parents and voters, approached you with the task of understanding\n",
        "why these schools are under-performing. To improve school performance, you\n",
        "need to learn more about these schools and their students, just as a business needs\n",
        "to understand its own strengths and weaknesses and its customers. Though you is\n",
        "eager to build an impressive explanatory model, you know the importance of\n",
        "conducting preliminary research to prevent possible pitfalls or blind spots. Thus,\n",
        "you engages in a thorough exploratory analysis, which includes: a lit review, data\n",
        "collection, descriptive and inferential statistics, and data visualization.\n",
        "Phase 1 - Data Collection\n",
        "Here is a data of every public school in middle Tennessee. The data also includes\n",
        "various demographic, school faculty, and income variables. You need to convert the\n",
        "data into useful information.\n",
        "• Read the data in pandas data frame\n",
        "• Describe the data to find more details\n",
        "Phase 2 - Group data by school ratings\n",
        "Chooses indicators that describe the student body (for example, reduced_lunch) or\n",
        "school administration (stu_teach_ratio) hoping they will\n",
        "explain school_rating. reduced_lunch is a variable measuring the average percentage\n",
        "of students per school enrolled in a federal program that provides lunches for students\n",
        "from lower-income households. In short, reduced_lunch is a good proxy for household\n",
        "income.\n",
        "Module 4 – Introduction to NumPy, Pandas & Matplotlib\n",
        "© B r a i n 4 c e E d u c a t i o n S o l u t i o n s P v t . L t d Page 3\n",
        "Isolates ‘reduced_lunch’ and groups the data by ‘school_rating’ using pandas groupby\n",
        "method and then uses describe on the re-shaped data\n",
        "Phase 3 – Correlation analysis\n",
        "Find the correlation between ‘reduced_lunch’ and ‘school_rating’. The values in the\n",
        "correlation matrix table will be between -1 and 1. A value of -1 indicates the strongest\n",
        "possible negative correlation, meaning as one variable decreases the other increases.\n",
        "And a value of 1 indicates the opposite.\n",
        "Phase 4 – Scatter Plot\n",
        "Find the relationship between school_rating and reduced_lunch, Plot a graph with the\n",
        "two variables on a scatter plot. Each dot represents a school. The placement of the dot\n",
        "represents that school's rating (Y-axis) and the percentage of its students on reduced\n",
        "lunch (x-axis). The downward trend line shows the negative correlation\n",
        "between school_rating and reduced_lunch (as one increases, the other decreases). The\n",
        "slope of the trend line indicates how much school_rating decreases\n",
        "as reduced_lunch increases. A steeper slope would indicate that a small change\n",
        "in reduced_lunch has a big impact on school_rating while a more horizontal slope\n",
        "would indicate that the same small change in reduced_lunch has a smaller impact\n",
        "on school_rating.\n",
        "Phase 5 – Correlation Matrix\n",
        "An efficient graph for assessing relationships is the correlation matrix, as seen below;\n",
        "its color-coded cells make it easier to interpret than the tabular correlation matrix\n",
        "above. Red cells indicate positive correlation; blue cells indicate negative correlation;\n",
        "white cells indicate no correlation. The darker the colors, the stronger the correlation\n",
        "(positive or negative) between those two variables. Draw a graph of correlation matrix\n",
        "having all important fields of data frame."
      ],
      "metadata": {
        "id": "oG40s3CUIVKx"
      },
      "id": "oG40s3CUIVKx"
    },
    {
      "cell_type": "code",
      "source": [
        "import pandas as pd\n",
        "data = pd.read_csv(\"/content/middle_tn_schools.csv\")\n",
        "data.describe()"
      ],
      "metadata": {
        "id": "7Mv5fO2ugSTZ",
        "outputId": "91fd9e16-07a8-4427-9f25-4517167a8fae",
        "colab": {
          "base_uri": "https://localhost:8080/",
          "height": 320
        }
      },
      "id": "7Mv5fO2ugSTZ",
      "execution_count": null,
      "outputs": [
        {
          "output_type": "execute_result",
          "data": {
            "text/plain": [
              "       school_rating         size  reduced_lunch  state_percentile_16  \\\n",
              "count     347.000000   347.000000     347.000000           347.000000   \n",
              "mean        2.968300   699.472622      50.279539            58.801729   \n",
              "std         1.690377   400.598636      25.480236            32.540747   \n",
              "min         0.000000    53.000000       2.000000             0.200000   \n",
              "25%         2.000000   420.500000      30.000000            30.950000   \n",
              "50%         3.000000   595.000000      51.000000            66.400000   \n",
              "75%         4.000000   851.000000      71.500000            88.000000   \n",
              "max         5.000000  2314.000000      98.000000            99.800000   \n",
              "\n",
              "       state_percentile_15  stu_teach_ratio  avg_score_15  avg_score_16  \\\n",
              "count           341.000000       347.000000    341.000000    347.000000   \n",
              "mean             58.249267        15.461671     57.004692     57.049856   \n",
              "std              32.702630         5.725170     26.696450     27.968974   \n",
              "min               0.600000         4.700000      1.500000      0.100000   \n",
              "25%              27.100000        13.700000     37.600000     37.000000   \n",
              "50%              65.800000        15.000000     61.800000     60.700000   \n",
              "75%              88.600000        16.700000     79.600000     80.250000   \n",
              "max              99.800000       111.000000     99.000000     98.900000   \n",
              "\n",
              "       full_time_teachers  percent_black  percent_white  percent_asian  \\\n",
              "count          347.000000     347.000000     347.000000     347.000000   \n",
              "mean            44.939481      21.197983      61.673487       2.642651   \n",
              "std             22.053386      23.562538      27.274859       3.109629   \n",
              "min              2.000000       0.000000       1.100000       0.000000   \n",
              "25%             30.000000       3.600000      40.600000       0.750000   \n",
              "50%             40.000000      13.500000      68.700000       1.600000   \n",
              "75%             54.000000      28.350000      85.950000       3.100000   \n",
              "max            140.000000      97.400000      99.700000      21.100000   \n",
              "\n",
              "       percent_hispanic  \n",
              "count        347.000000  \n",
              "mean          11.164553  \n",
              "std           12.030608  \n",
              "min            0.000000  \n",
              "25%            3.800000  \n",
              "50%            6.400000  \n",
              "75%           13.800000  \n",
              "max           65.200000  "
            ],
            "text/html": [
              "\n",
              "  <div id=\"df-a1f2753d-42c4-4e31-a52b-8f1b51f8e4a4\" class=\"colab-df-container\">\n",
              "    <div>\n",
              "<style scoped>\n",
              "    .dataframe tbody tr th:only-of-type {\n",
              "        vertical-align: middle;\n",
              "    }\n",
              "\n",
              "    .dataframe tbody tr th {\n",
              "        vertical-align: top;\n",
              "    }\n",
              "\n",
              "    .dataframe thead th {\n",
              "        text-align: right;\n",
              "    }\n",
              "</style>\n",
              "<table border=\"1\" class=\"dataframe\">\n",
              "  <thead>\n",
              "    <tr style=\"text-align: right;\">\n",
              "      <th></th>\n",
              "      <th>school_rating</th>\n",
              "      <th>size</th>\n",
              "      <th>reduced_lunch</th>\n",
              "      <th>state_percentile_16</th>\n",
              "      <th>state_percentile_15</th>\n",
              "      <th>stu_teach_ratio</th>\n",
              "      <th>avg_score_15</th>\n",
              "      <th>avg_score_16</th>\n",
              "      <th>full_time_teachers</th>\n",
              "      <th>percent_black</th>\n",
              "      <th>percent_white</th>\n",
              "      <th>percent_asian</th>\n",
              "      <th>percent_hispanic</th>\n",
              "    </tr>\n",
              "  </thead>\n",
              "  <tbody>\n",
              "    <tr>\n",
              "      <th>count</th>\n",
              "      <td>347.000000</td>\n",
              "      <td>347.000000</td>\n",
              "      <td>347.000000</td>\n",
              "      <td>347.000000</td>\n",
              "      <td>341.000000</td>\n",
              "      <td>347.000000</td>\n",
              "      <td>341.000000</td>\n",
              "      <td>347.000000</td>\n",
              "      <td>347.000000</td>\n",
              "      <td>347.000000</td>\n",
              "      <td>347.000000</td>\n",
              "      <td>347.000000</td>\n",
              "      <td>347.000000</td>\n",
              "    </tr>\n",
              "    <tr>\n",
              "      <th>mean</th>\n",
              "      <td>2.968300</td>\n",
              "      <td>699.472622</td>\n",
              "      <td>50.279539</td>\n",
              "      <td>58.801729</td>\n",
              "      <td>58.249267</td>\n",
              "      <td>15.461671</td>\n",
              "      <td>57.004692</td>\n",
              "      <td>57.049856</td>\n",
              "      <td>44.939481</td>\n",
              "      <td>21.197983</td>\n",
              "      <td>61.673487</td>\n",
              "      <td>2.642651</td>\n",
              "      <td>11.164553</td>\n",
              "    </tr>\n",
              "    <tr>\n",
              "      <th>std</th>\n",
              "      <td>1.690377</td>\n",
              "      <td>400.598636</td>\n",
              "      <td>25.480236</td>\n",
              "      <td>32.540747</td>\n",
              "      <td>32.702630</td>\n",
              "      <td>5.725170</td>\n",
              "      <td>26.696450</td>\n",
              "      <td>27.968974</td>\n",
              "      <td>22.053386</td>\n",
              "      <td>23.562538</td>\n",
              "      <td>27.274859</td>\n",
              "      <td>3.109629</td>\n",
              "      <td>12.030608</td>\n",
              "    </tr>\n",
              "    <tr>\n",
              "      <th>min</th>\n",
              "      <td>0.000000</td>\n",
              "      <td>53.000000</td>\n",
              "      <td>2.000000</td>\n",
              "      <td>0.200000</td>\n",
              "      <td>0.600000</td>\n",
              "      <td>4.700000</td>\n",
              "      <td>1.500000</td>\n",
              "      <td>0.100000</td>\n",
              "      <td>2.000000</td>\n",
              "      <td>0.000000</td>\n",
              "      <td>1.100000</td>\n",
              "      <td>0.000000</td>\n",
              "      <td>0.000000</td>\n",
              "    </tr>\n",
              "    <tr>\n",
              "      <th>25%</th>\n",
              "      <td>2.000000</td>\n",
              "      <td>420.500000</td>\n",
              "      <td>30.000000</td>\n",
              "      <td>30.950000</td>\n",
              "      <td>27.100000</td>\n",
              "      <td>13.700000</td>\n",
              "      <td>37.600000</td>\n",
              "      <td>37.000000</td>\n",
              "      <td>30.000000</td>\n",
              "      <td>3.600000</td>\n",
              "      <td>40.600000</td>\n",
              "      <td>0.750000</td>\n",
              "      <td>3.800000</td>\n",
              "    </tr>\n",
              "    <tr>\n",
              "      <th>50%</th>\n",
              "      <td>3.000000</td>\n",
              "      <td>595.000000</td>\n",
              "      <td>51.000000</td>\n",
              "      <td>66.400000</td>\n",
              "      <td>65.800000</td>\n",
              "      <td>15.000000</td>\n",
              "      <td>61.800000</td>\n",
              "      <td>60.700000</td>\n",
              "      <td>40.000000</td>\n",
              "      <td>13.500000</td>\n",
              "      <td>68.700000</td>\n",
              "      <td>1.600000</td>\n",
              "      <td>6.400000</td>\n",
              "    </tr>\n",
              "    <tr>\n",
              "      <th>75%</th>\n",
              "      <td>4.000000</td>\n",
              "      <td>851.000000</td>\n",
              "      <td>71.500000</td>\n",
              "      <td>88.000000</td>\n",
              "      <td>88.600000</td>\n",
              "      <td>16.700000</td>\n",
              "      <td>79.600000</td>\n",
              "      <td>80.250000</td>\n",
              "      <td>54.000000</td>\n",
              "      <td>28.350000</td>\n",
              "      <td>85.950000</td>\n",
              "      <td>3.100000</td>\n",
              "      <td>13.800000</td>\n",
              "    </tr>\n",
              "    <tr>\n",
              "      <th>max</th>\n",
              "      <td>5.000000</td>\n",
              "      <td>2314.000000</td>\n",
              "      <td>98.000000</td>\n",
              "      <td>99.800000</td>\n",
              "      <td>99.800000</td>\n",
              "      <td>111.000000</td>\n",
              "      <td>99.000000</td>\n",
              "      <td>98.900000</td>\n",
              "      <td>140.000000</td>\n",
              "      <td>97.400000</td>\n",
              "      <td>99.700000</td>\n",
              "      <td>21.100000</td>\n",
              "      <td>65.200000</td>\n",
              "    </tr>\n",
              "  </tbody>\n",
              "</table>\n",
              "</div>\n",
              "    <div class=\"colab-df-buttons\">\n",
              "\n",
              "  <div class=\"colab-df-container\">\n",
              "    <button class=\"colab-df-convert\" onclick=\"convertToInteractive('df-a1f2753d-42c4-4e31-a52b-8f1b51f8e4a4')\"\n",
              "            title=\"Convert this dataframe to an interactive table.\"\n",
              "            style=\"display:none;\">\n",
              "\n",
              "  <svg xmlns=\"http://www.w3.org/2000/svg\" height=\"24px\" viewBox=\"0 -960 960 960\">\n",
              "    <path d=\"M120-120v-720h720v720H120Zm60-500h600v-160H180v160Zm220 220h160v-160H400v160Zm0 220h160v-160H400v160ZM180-400h160v-160H180v160Zm440 0h160v-160H620v160ZM180-180h160v-160H180v160Zm440 0h160v-160H620v160Z\"/>\n",
              "  </svg>\n",
              "    </button>\n",
              "\n",
              "  <style>\n",
              "    .colab-df-container {\n",
              "      display:flex;\n",
              "      gap: 12px;\n",
              "    }\n",
              "\n",
              "    .colab-df-convert {\n",
              "      background-color: #E8F0FE;\n",
              "      border: none;\n",
              "      border-radius: 50%;\n",
              "      cursor: pointer;\n",
              "      display: none;\n",
              "      fill: #1967D2;\n",
              "      height: 32px;\n",
              "      padding: 0 0 0 0;\n",
              "      width: 32px;\n",
              "    }\n",
              "\n",
              "    .colab-df-convert:hover {\n",
              "      background-color: #E2EBFA;\n",
              "      box-shadow: 0px 1px 2px rgba(60, 64, 67, 0.3), 0px 1px 3px 1px rgba(60, 64, 67, 0.15);\n",
              "      fill: #174EA6;\n",
              "    }\n",
              "\n",
              "    .colab-df-buttons div {\n",
              "      margin-bottom: 4px;\n",
              "    }\n",
              "\n",
              "    [theme=dark] .colab-df-convert {\n",
              "      background-color: #3B4455;\n",
              "      fill: #D2E3FC;\n",
              "    }\n",
              "\n",
              "    [theme=dark] .colab-df-convert:hover {\n",
              "      background-color: #434B5C;\n",
              "      box-shadow: 0px 1px 3px 1px rgba(0, 0, 0, 0.15);\n",
              "      filter: drop-shadow(0px 1px 2px rgba(0, 0, 0, 0.3));\n",
              "      fill: #FFFFFF;\n",
              "    }\n",
              "  </style>\n",
              "\n",
              "    <script>\n",
              "      const buttonEl =\n",
              "        document.querySelector('#df-a1f2753d-42c4-4e31-a52b-8f1b51f8e4a4 button.colab-df-convert');\n",
              "      buttonEl.style.display =\n",
              "        google.colab.kernel.accessAllowed ? 'block' : 'none';\n",
              "\n",
              "      async function convertToInteractive(key) {\n",
              "        const element = document.querySelector('#df-a1f2753d-42c4-4e31-a52b-8f1b51f8e4a4');\n",
              "        const dataTable =\n",
              "          await google.colab.kernel.invokeFunction('convertToInteractive',\n",
              "                                                    [key], {});\n",
              "        if (!dataTable) return;\n",
              "\n",
              "        const docLinkHtml = 'Like what you see? Visit the ' +\n",
              "          '<a target=\"_blank\" href=https://colab.research.google.com/notebooks/data_table.ipynb>data table notebook</a>'\n",
              "          + ' to learn more about interactive tables.';\n",
              "        element.innerHTML = '';\n",
              "        dataTable['output_type'] = 'display_data';\n",
              "        await google.colab.output.renderOutput(dataTable, element);\n",
              "        const docLink = document.createElement('div');\n",
              "        docLink.innerHTML = docLinkHtml;\n",
              "        element.appendChild(docLink);\n",
              "      }\n",
              "    </script>\n",
              "  </div>\n",
              "\n",
              "\n",
              "<div id=\"df-9e6baeac-0dd2-4793-a171-011622ad2aee\">\n",
              "  <button class=\"colab-df-quickchart\" onclick=\"quickchart('df-9e6baeac-0dd2-4793-a171-011622ad2aee')\"\n",
              "            title=\"Suggest charts.\"\n",
              "            style=\"display:none;\">\n",
              "\n",
              "<svg xmlns=\"http://www.w3.org/2000/svg\" height=\"24px\"viewBox=\"0 0 24 24\"\n",
              "     width=\"24px\">\n",
              "    <g>\n",
              "        <path d=\"M19 3H5c-1.1 0-2 .9-2 2v14c0 1.1.9 2 2 2h14c1.1 0 2-.9 2-2V5c0-1.1-.9-2-2-2zM9 17H7v-7h2v7zm4 0h-2V7h2v10zm4 0h-2v-4h2v4z\"/>\n",
              "    </g>\n",
              "</svg>\n",
              "  </button>\n",
              "\n",
              "<style>\n",
              "  .colab-df-quickchart {\n",
              "      --bg-color: #E8F0FE;\n",
              "      --fill-color: #1967D2;\n",
              "      --hover-bg-color: #E2EBFA;\n",
              "      --hover-fill-color: #174EA6;\n",
              "      --disabled-fill-color: #AAA;\n",
              "      --disabled-bg-color: #DDD;\n",
              "  }\n",
              "\n",
              "  [theme=dark] .colab-df-quickchart {\n",
              "      --bg-color: #3B4455;\n",
              "      --fill-color: #D2E3FC;\n",
              "      --hover-bg-color: #434B5C;\n",
              "      --hover-fill-color: #FFFFFF;\n",
              "      --disabled-bg-color: #3B4455;\n",
              "      --disabled-fill-color: #666;\n",
              "  }\n",
              "\n",
              "  .colab-df-quickchart {\n",
              "    background-color: var(--bg-color);\n",
              "    border: none;\n",
              "    border-radius: 50%;\n",
              "    cursor: pointer;\n",
              "    display: none;\n",
              "    fill: var(--fill-color);\n",
              "    height: 32px;\n",
              "    padding: 0;\n",
              "    width: 32px;\n",
              "  }\n",
              "\n",
              "  .colab-df-quickchart:hover {\n",
              "    background-color: var(--hover-bg-color);\n",
              "    box-shadow: 0 1px 2px rgba(60, 64, 67, 0.3), 0 1px 3px 1px rgba(60, 64, 67, 0.15);\n",
              "    fill: var(--button-hover-fill-color);\n",
              "  }\n",
              "\n",
              "  .colab-df-quickchart-complete:disabled,\n",
              "  .colab-df-quickchart-complete:disabled:hover {\n",
              "    background-color: var(--disabled-bg-color);\n",
              "    fill: var(--disabled-fill-color);\n",
              "    box-shadow: none;\n",
              "  }\n",
              "\n",
              "  .colab-df-spinner {\n",
              "    border: 2px solid var(--fill-color);\n",
              "    border-color: transparent;\n",
              "    border-bottom-color: var(--fill-color);\n",
              "    animation:\n",
              "      spin 1s steps(1) infinite;\n",
              "  }\n",
              "\n",
              "  @keyframes spin {\n",
              "    0% {\n",
              "      border-color: transparent;\n",
              "      border-bottom-color: var(--fill-color);\n",
              "      border-left-color: var(--fill-color);\n",
              "    }\n",
              "    20% {\n",
              "      border-color: transparent;\n",
              "      border-left-color: var(--fill-color);\n",
              "      border-top-color: var(--fill-color);\n",
              "    }\n",
              "    30% {\n",
              "      border-color: transparent;\n",
              "      border-left-color: var(--fill-color);\n",
              "      border-top-color: var(--fill-color);\n",
              "      border-right-color: var(--fill-color);\n",
              "    }\n",
              "    40% {\n",
              "      border-color: transparent;\n",
              "      border-right-color: var(--fill-color);\n",
              "      border-top-color: var(--fill-color);\n",
              "    }\n",
              "    60% {\n",
              "      border-color: transparent;\n",
              "      border-right-color: var(--fill-color);\n",
              "    }\n",
              "    80% {\n",
              "      border-color: transparent;\n",
              "      border-right-color: var(--fill-color);\n",
              "      border-bottom-color: var(--fill-color);\n",
              "    }\n",
              "    90% {\n",
              "      border-color: transparent;\n",
              "      border-bottom-color: var(--fill-color);\n",
              "    }\n",
              "  }\n",
              "</style>\n",
              "\n",
              "  <script>\n",
              "    async function quickchart(key) {\n",
              "      const quickchartButtonEl =\n",
              "        document.querySelector('#' + key + ' button');\n",
              "      quickchartButtonEl.disabled = true;  // To prevent multiple clicks.\n",
              "      quickchartButtonEl.classList.add('colab-df-spinner');\n",
              "      try {\n",
              "        const charts = await google.colab.kernel.invokeFunction(\n",
              "            'suggestCharts', [key], {});\n",
              "      } catch (error) {\n",
              "        console.error('Error during call to suggestCharts:', error);\n",
              "      }\n",
              "      quickchartButtonEl.classList.remove('colab-df-spinner');\n",
              "      quickchartButtonEl.classList.add('colab-df-quickchart-complete');\n",
              "    }\n",
              "    (() => {\n",
              "      let quickchartButtonEl =\n",
              "        document.querySelector('#df-9e6baeac-0dd2-4793-a171-011622ad2aee button');\n",
              "      quickchartButtonEl.style.display =\n",
              "        google.colab.kernel.accessAllowed ? 'block' : 'none';\n",
              "    })();\n",
              "  </script>\n",
              "</div>\n",
              "    </div>\n",
              "  </div>\n"
            ]
          },
          "metadata": {},
          "execution_count": 20
        }
      ]
    },
    {
      "cell_type": "code",
      "source": [
        "grouped = data.groupby('school_rating')['reduced_lunch']\n",
        "print(grouped.describe())"
      ],
      "metadata": {
        "colab": {
          "base_uri": "https://localhost:8080/"
        },
        "id": "ugvNz1tdhFnR",
        "outputId": "ffc00db5-be38-4943-e703-e611a3abbf15"
      },
      "id": "ugvNz1tdhFnR",
      "execution_count": null,
      "outputs": [
        {
          "output_type": "stream",
          "name": "stdout",
          "text": [
            "               count       mean        std   min    25%   50%    75%   max\n",
            "school_rating                                                             \n",
            "0.0             43.0  83.581395   8.813498  53.0  79.50  86.0  90.00  98.0\n",
            "1.0             40.0  74.950000  11.644191  53.0  65.00  74.5  84.25  98.0\n",
            "2.0             44.0  64.272727  11.956051  37.0  54.75  62.5  74.00  88.0\n",
            "3.0             56.0  50.285714  13.550866  24.0  41.00  48.5  63.00  78.0\n",
            "4.0             86.0  41.000000  16.681092   4.0  30.00  41.5  50.00  87.0\n",
            "5.0             78.0  21.602564  17.651268   2.0   8.00  19.0  29.75  87.0\n"
          ]
        }
      ]
    },
    {
      "cell_type": "code",
      "source": [
        "correlation = data['reduced_lunch'].corr(data['school_rating'])\n",
        "print(\"Correlation between reduced_lunch and school_rating:\", correlation)\n"
      ],
      "metadata": {
        "colab": {
          "base_uri": "https://localhost:8080/"
        },
        "id": "A6gNnQVYi-DY",
        "outputId": "4b016a26-24c5-4565-e2cc-2afd197e8db7"
      },
      "id": "A6gNnQVYi-DY",
      "execution_count": null,
      "outputs": [
        {
          "output_type": "stream",
          "name": "stdout",
          "text": [
            "Correlation between reduced_lunch and school_rating: -0.8157567373058027\n"
          ]
        }
      ]
    },
    {
      "cell_type": "code",
      "source": [
        "import matplotlib.pyplot as plt\n",
        "\n",
        "plt.scatter(data['reduced_lunch'], data['school_rating'])\n",
        "plt.xlabel('Reduced Lunch (%)')\n",
        "plt.ylabel('School Rating')\n",
        "plt.title('Relationship between School Rating and Reduced Lunch')\n",
        "plt.show()\n"
      ],
      "metadata": {
        "id": "9Iac95CTkH13",
        "outputId": "02713b81-1498-4d10-9735-aca9a1172405",
        "colab": {
          "base_uri": "https://localhost:8080/",
          "height": 472
        }
      },
      "id": "9Iac95CTkH13",
      "execution_count": null,
      "outputs": [
        {
          "output_type": "display_data",
          "data": {
            "text/plain": [
              "<Figure size 640x480 with 1 Axes>"
            ],
            "image/png": "[encoded data removed]"
          },
          "metadata": {}
        }
      ]
    },
    {
      "cell_type": "code",
      "source": [
        "import seaborn as sns\n",
        "\n",
        "correlation_matrix = data.corr()\n",
        "sns.heatmap(correlation_matrix, annot=True, cmap='coolwarm')\n",
        "plt.title('Correlation Matrix')\n",
        "plt.show()\n"
      ],
      "metadata": {
        "id": "1RMcFa7Xkoqk",
        "outputId": "bab61a72-d04c-4569-9501-a0c24a4053ba",
        "colab": {
          "base_uri": "https://localhost:8080/",
          "height": 630
        }
      },
      "id": "1RMcFa7Xkoqk",
      "execution_count": null,
      "outputs": [
        {
          "output_type": "stream",
          "name": "stderr",
          "text": [
            "<ipython-input-26-172646d51947>:3: FutureWarning: The default value of numeric_only in DataFrame.corr is deprecated. In a future version, it will default to False. Select only valid columns or specify the value of numeric_only to silence this warning.\n",
            "  correlation_matrix = data.corr()\n"
          ]
        },
        {
          "output_type": "display_data",
          "data": {
            "text/plain": [
              "<Figure size 640x480 with 2 Axes>"
            ],
            "image/png": "[encoded data removed]"
          },
          "metadata": {}
        }
      ]
    }
  ],
  "metadata": {
    "kernelspec": {
      "display_name": "Python 3 (ipykernel)",
      "language": "python",
      "name": "python3"
    },
    "language_info": {
      "codemirror_mode": {
        "name": "ipython",
        "version": 3
      },
      "file_extension": ".py",
      "mimetype": "text/x-python",
      "name": "python",
      "nbconvert_exporter": "python",
      "pygments_lexer": "ipython3",
      "version": "3.11.5"
    },
    "colab": {
      "provenance": [],
      "include_colab_link": true
    }
  },
  "nbformat": 4,
  "nbformat_minor": 5
}